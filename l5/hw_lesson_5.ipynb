{
  "nbformat": 4,
  "nbformat_minor": 0,
  "metadata": {
    "colab": {
      "name": "hw_lesson_5.ipynb",
      "provenance": [],
      "collapsed_sections": [],
      "toc_visible": true
    },
    "kernelspec": {
      "name": "python3",
      "display_name": "Python 3"
    },
    "accelerator": "GPU"
  },
  "cells": [
    {
      "cell_type": "code",
      "metadata": {
        "id": "8gRnqN5s8stK",
        "colab_type": "code",
        "colab": {
          "base_uri": "https://localhost:8080/",
          "height": 224
        },
        "outputId": "2f3c5631-edca-4247-d67c-b62fe8cc3b05"
      },
      "source": [
        "#pip install pymorphy2"
      ],
      "execution_count": 4,
      "outputs": [
        {
          "output_type": "stream",
          "text": [
            "Collecting pymorphy2\n",
            "\u001b[?25l  Downloading https://files.pythonhosted.org/packages/a3/33/fff9675c68b5f6c63ec8c6e6ff57827dda28a1fa5b2c2d727dffff92dd47/pymorphy2-0.8-py2.py3-none-any.whl (46kB)\n",
            "\r\u001b[K     |███████                         | 10kB 27.8MB/s eta 0:00:01\r\u001b[K     |██████████████▏                 | 20kB 32.0MB/s eta 0:00:01\r\u001b[K     |█████████████████████▎          | 30kB 37.4MB/s eta 0:00:01\r\u001b[K     |████████████████████████████▍   | 40kB 37.8MB/s eta 0:00:01\r\u001b[K     |████████████████████████████████| 51kB 7.3MB/s \n",
            "\u001b[?25hCollecting pymorphy2-dicts<3.0,>=2.4\n",
            "\u001b[?25l  Downloading https://files.pythonhosted.org/packages/02/51/2465fd4f72328ab50877b54777764d928da8cb15b74e2680fc1bd8cb3173/pymorphy2_dicts-2.4.393442.3710985-py2.py3-none-any.whl (7.1MB)\n",
            "\u001b[K     |████████████████████████████████| 7.1MB 10.7MB/s \n",
            "\u001b[?25hCollecting dawg-python>=0.7\n",
            "  Downloading https://files.pythonhosted.org/packages/6a/84/ff1ce2071d4c650ec85745766c0047ccc3b5036f1d03559fd46bb38b5eeb/DAWG_Python-0.7.2-py2.py3-none-any.whl\n",
            "Requirement already satisfied: docopt>=0.6 in /usr/local/lib/python3.6/dist-packages (from pymorphy2) (0.6.2)\n",
            "Installing collected packages: pymorphy2-dicts, dawg-python, pymorphy2\n",
            "Successfully installed dawg-python-0.7.2 pymorphy2-0.8 pymorphy2-dicts-2.4.393442.3710985\n"
          ],
          "name": "stdout"
        }
      ]
    },
    {
      "cell_type": "code",
      "metadata": {
        "id": "pdbkOWeS98oE",
        "colab_type": "code",
        "colab": {
          "base_uri": "https://localhost:8080/",
          "height": 190
        },
        "outputId": "d1f44c0c-7be9-4d27-d7a3-1dcfd727490f"
      },
      "source": [
        "#pip install stop_words"
      ],
      "execution_count": 5,
      "outputs": [
        {
          "output_type": "stream",
          "text": [
            "Collecting stop_words\n",
            "  Downloading https://files.pythonhosted.org/packages/1c/cb/d58290804b7a4c5daa42abbbe2a93c477ae53e45541b1825e86f0dfaaf63/stop-words-2018.7.23.tar.gz\n",
            "Building wheels for collected packages: stop-words\n",
            "  Building wheel for stop-words (setup.py) ... \u001b[?25l\u001b[?25hdone\n",
            "  Created wheel for stop-words: filename=stop_words-2018.7.23-cp36-none-any.whl size=32917 sha256=98e1d075ca0ae39090d131bb750e9f6be1d80c002228b494a604a3baeb2b5b6e\n",
            "  Stored in directory: /root/.cache/pip/wheels/75/37/6a/2b295e03bd07290f0da95c3adb9a74ba95fbc333aa8b0c7c78\n",
            "Successfully built stop-words\n",
            "Installing collected packages: stop-words\n",
            "Successfully installed stop-words-2018.7.23\n"
          ],
          "name": "stdout"
        }
      ]
    },
    {
      "cell_type": "code",
      "metadata": {
        "id": "m1eQWYuH7zOS",
        "colab_type": "code",
        "colab": {}
      },
      "source": [
        "import pandas as pd\n",
        "import numpy as np\n",
        "\n",
        "from string import punctuation\n",
        "from pymorphy2 import MorphAnalyzer\n",
        "from stop_words import get_stop_words\n",
        "import re\n",
        "import nltk"
      ],
      "execution_count": 6,
      "outputs": []
    },
    {
      "cell_type": "code",
      "metadata": {
        "id": "WpjGegKzD99X",
        "colab_type": "code",
        "colab": {}
      },
      "source": [
        "max_words = 2000\n",
        "max_len = 40"
      ],
      "execution_count": 7,
      "outputs": []
    },
    {
      "cell_type": "code",
      "metadata": {
        "id": "qR4pA6c98HYu",
        "colab_type": "code",
        "colab": {
          "base_uri": "https://localhost:8080/",
          "height": 204
        },
        "outputId": "04426937-714e-4706-f060-60c9f59a44d4"
      },
      "source": [
        "df = pd.read_excel('/content/отзывы за лето.xls')\n",
        "\n",
        "df.head()"
      ],
      "execution_count": 25,
      "outputs": [
        {
          "output_type": "execute_result",
          "data": {
            "text/html": [
              "<div>\n",
              "<style scoped>\n",
              "    .dataframe tbody tr th:only-of-type {\n",
              "        vertical-align: middle;\n",
              "    }\n",
              "\n",
              "    .dataframe tbody tr th {\n",
              "        vertical-align: top;\n",
              "    }\n",
              "\n",
              "    .dataframe thead th {\n",
              "        text-align: right;\n",
              "    }\n",
              "</style>\n",
              "<table border=\"1\" class=\"dataframe\">\n",
              "  <thead>\n",
              "    <tr style=\"text-align: right;\">\n",
              "      <th></th>\n",
              "      <th>Rating</th>\n",
              "      <th>Content</th>\n",
              "      <th>Date</th>\n",
              "    </tr>\n",
              "  </thead>\n",
              "  <tbody>\n",
              "    <tr>\n",
              "      <th>0</th>\n",
              "      <td>5</td>\n",
              "      <td>It just works!</td>\n",
              "      <td>2017-08-14</td>\n",
              "    </tr>\n",
              "    <tr>\n",
              "      <th>1</th>\n",
              "      <td>4</td>\n",
              "      <td>В целом удобноное приложение...из минусов хотя...</td>\n",
              "      <td>2017-08-14</td>\n",
              "    </tr>\n",
              "    <tr>\n",
              "      <th>2</th>\n",
              "      <td>5</td>\n",
              "      <td>Отлично все</td>\n",
              "      <td>2017-08-14</td>\n",
              "    </tr>\n",
              "    <tr>\n",
              "      <th>3</th>\n",
              "      <td>5</td>\n",
              "      <td>Стал зависать на 1% работы антивируса. Дальше ...</td>\n",
              "      <td>2017-08-14</td>\n",
              "    </tr>\n",
              "    <tr>\n",
              "      <th>4</th>\n",
              "      <td>5</td>\n",
              "      <td>Очень удобно, работает быстро.</td>\n",
              "      <td>2017-08-14</td>\n",
              "    </tr>\n",
              "  </tbody>\n",
              "</table>\n",
              "</div>"
            ],
            "text/plain": [
              "   Rating                                            Content        Date\n",
              "0       5                                     It just works!  2017-08-14\n",
              "1       4  В целом удобноное приложение...из минусов хотя...  2017-08-14\n",
              "2       5                                        Отлично все  2017-08-14\n",
              "3       5  Стал зависать на 1% работы антивируса. Дальше ...  2017-08-14\n",
              "4       5                     Очень удобно, работает быстро.  2017-08-14"
            ]
          },
          "metadata": {
            "tags": []
          },
          "execution_count": 25
        }
      ]
    },
    {
      "cell_type": "code",
      "metadata": {
        "id": "oj3fpp3t9Zv_",
        "colab_type": "code",
        "colab": {}
      },
      "source": [
        "punct = set(punctuation)\n",
        "stop_words_set = set(get_stop_words('ru') + get_stop_words('en'))\n",
        "ma = MorphAnalyzer()\n",
        "\n",
        "def preprocess(txt):\n",
        "  r = str(txt).lower()\n",
        "  r = ''.join(t for t in r if t not in punct)\n",
        "  r = re.sub(r'не', 'не\\s', r)\n",
        "  r = re.sub(r'\\snot', 'not', r)\n",
        "  r = re.sub(r'[^a-zA-Zа-яА-ЯёЁ0-9]+', ' ', r)\n",
        "  # todo: надо бы убрать emoji\n",
        "\n",
        "  r = \" \".join([ma.parse(word)[0].normal_form for word in r.split() if word not in stop_words_set])\n",
        "  r = r.strip()\n",
        "\n",
        "  return r"
      ],
      "execution_count": 26,
      "outputs": []
    },
    {
      "cell_type": "code",
      "metadata": {
        "id": "8glFH-hhA7qX",
        "colab_type": "code",
        "colab": {}
      },
      "source": [
        "df['Content'] = df['Content'].apply(preprocess)"
      ],
      "execution_count": 27,
      "outputs": []
    },
    {
      "cell_type": "code",
      "metadata": {
        "id": "YuYxhb9DcBIW",
        "colab_type": "code",
        "colab": {}
      },
      "source": [
        "df.drop(df[df['Content'] == ''].index, inplace=True)"
      ],
      "execution_count": 28,
      "outputs": []
    },
    {
      "cell_type": "code",
      "metadata": {
        "id": "-LJOIKGk05gx",
        "colab_type": "code",
        "colab": {}
      },
      "source": [
        "df['target'] = df['Rating'] > 3\n",
        "df['target'] = df['target'].astype('int')"
      ],
      "execution_count": 29,
      "outputs": []
    },
    {
      "cell_type": "code",
      "metadata": {
        "id": "_bblOXVlBGS-",
        "colab_type": "code",
        "colab": {
          "base_uri": "https://localhost:8080/",
          "height": 669
        },
        "outputId": "78439596-b236-4d7b-8dbf-009da0a5eff8"
      },
      "source": [
        "df.head(20)"
      ],
      "execution_count": 30,
      "outputs": [
        {
          "output_type": "execute_result",
          "data": {
            "text/html": [
              "<div>\n",
              "<style scoped>\n",
              "    .dataframe tbody tr th:only-of-type {\n",
              "        vertical-align: middle;\n",
              "    }\n",
              "\n",
              "    .dataframe tbody tr th {\n",
              "        vertical-align: top;\n",
              "    }\n",
              "\n",
              "    .dataframe thead th {\n",
              "        text-align: right;\n",
              "    }\n",
              "</style>\n",
              "<table border=\"1\" class=\"dataframe\">\n",
              "  <thead>\n",
              "    <tr style=\"text-align: right;\">\n",
              "      <th></th>\n",
              "      <th>Rating</th>\n",
              "      <th>Content</th>\n",
              "      <th>Date</th>\n",
              "      <th>target</th>\n",
              "    </tr>\n",
              "  </thead>\n",
              "  <tbody>\n",
              "    <tr>\n",
              "      <th>0</th>\n",
              "      <td>5</td>\n",
              "      <td>just works</td>\n",
              "      <td>2017-08-14</td>\n",
              "      <td>1</td>\n",
              "    </tr>\n",
              "    <tr>\n",
              "      <th>1</th>\n",
              "      <td>4</td>\n",
              "      <td>целое удобноной приложениеиз минус хотеть боль...</td>\n",
              "      <td>2017-08-14</td>\n",
              "      <td>1</td>\n",
              "    </tr>\n",
              "    <tr>\n",
              "      <th>2</th>\n",
              "      <td>5</td>\n",
              "      <td>отлично</td>\n",
              "      <td>2017-08-14</td>\n",
              "      <td>1</td>\n",
              "    </tr>\n",
              "    <tr>\n",
              "      <th>3</th>\n",
              "      <td>5</td>\n",
              "      <td>зависать 1 работа антивирус рана sе пользовать...</td>\n",
              "      <td>2017-08-14</td>\n",
              "      <td>1</td>\n",
              "    </tr>\n",
              "    <tr>\n",
              "      <th>4</th>\n",
              "      <td>5</td>\n",
              "      <td>удобно работать быстро</td>\n",
              "      <td>2017-08-14</td>\n",
              "      <td>1</td>\n",
              "    </tr>\n",
              "    <tr>\n",
              "      <th>5</th>\n",
              "      <td>5</td>\n",
              "      <td>удобно норма</td>\n",
              "      <td>2017-08-14</td>\n",
              "      <td>1</td>\n",
              "    </tr>\n",
              "    <tr>\n",
              "      <th>6</th>\n",
              "      <td>5</td>\n",
              "      <td>удобный приложение</td>\n",
              "      <td>2017-08-14</td>\n",
              "      <td>1</td>\n",
              "    </tr>\n",
              "    <tr>\n",
              "      <th>7</th>\n",
              "      <td>5</td>\n",
              "      <td>устраивать</td>\n",
              "      <td>2017-08-14</td>\n",
              "      <td>1</td>\n",
              "    </tr>\n",
              "    <tr>\n",
              "      <th>8</th>\n",
              "      <td>5</td>\n",
              "      <td>работать чётко отличие банкомат вечно зависать...</td>\n",
              "      <td>2017-08-14</td>\n",
              "      <td>1</td>\n",
              "    </tr>\n",
              "    <tr>\n",
              "      <th>10</th>\n",
              "      <td>5</td>\n",
              "      <td>ок</td>\n",
              "      <td>2017-08-14</td>\n",
              "      <td>1</td>\n",
              "    </tr>\n",
              "    <tr>\n",
              "      <th>11</th>\n",
              "      <td>5</td>\n",
              "      <td>нормальный уведомление sльзить удалять</td>\n",
              "      <td>2017-08-14</td>\n",
              "      <td>1</td>\n",
              "    </tr>\n",
              "    <tr>\n",
              "      <th>12</th>\n",
              "      <td>2</td>\n",
              "      <td>s стартовать доступ gps sms звонок адресный кн...</td>\n",
              "      <td>2017-08-14</td>\n",
              "      <td>0</td>\n",
              "    </tr>\n",
              "    <tr>\n",
              "      <th>13</th>\n",
              "      <td>5</td>\n",
              "      <td>удобно работать замечательный подвисания sт</td>\n",
              "      <td>2017-08-14</td>\n",
              "      <td>1</td>\n",
              "    </tr>\n",
              "    <tr>\n",
              "      <th>14</th>\n",
              "      <td>5</td>\n",
              "      <td>удобно</td>\n",
              "      <td>2017-08-14</td>\n",
              "      <td>1</td>\n",
              "    </tr>\n",
              "    <tr>\n",
              "      <th>15</th>\n",
              "      <td>5</td>\n",
              "      <td>удобный штука</td>\n",
              "      <td>2017-08-14</td>\n",
              "      <td>1</td>\n",
              "    </tr>\n",
              "    <tr>\n",
              "      <th>16</th>\n",
              "      <td>5</td>\n",
              "      <td>отличный приложение</td>\n",
              "      <td>2017-08-14</td>\n",
              "      <td>1</td>\n",
              "    </tr>\n",
              "    <tr>\n",
              "      <th>17</th>\n",
              "      <td>5</td>\n",
              "      <td>удобно практично</td>\n",
              "      <td>2017-08-14</td>\n",
              "      <td>1</td>\n",
              "    </tr>\n",
              "    <tr>\n",
              "      <th>18</th>\n",
              "      <td>5</td>\n",
              "      <td>удобный приложение оплата платёж перевод</td>\n",
              "      <td>2017-08-14</td>\n",
              "      <td>1</td>\n",
              "    </tr>\n",
              "    <tr>\n",
              "      <th>19</th>\n",
              "      <td>5</td>\n",
              "      <td>удобно быстро</td>\n",
              "      <td>2017-08-14</td>\n",
              "      <td>1</td>\n",
              "    </tr>\n",
              "    <tr>\n",
              "      <th>20</th>\n",
              "      <td>5</td>\n",
              "      <td>удобный приложение транспортный карта пополнят...</td>\n",
              "      <td>2017-08-14</td>\n",
              "      <td>1</td>\n",
              "    </tr>\n",
              "  </tbody>\n",
              "</table>\n",
              "</div>"
            ],
            "text/plain": [
              "    Rating  ... target\n",
              "0        5  ...      1\n",
              "1        4  ...      1\n",
              "2        5  ...      1\n",
              "3        5  ...      1\n",
              "4        5  ...      1\n",
              "5        5  ...      1\n",
              "6        5  ...      1\n",
              "7        5  ...      1\n",
              "8        5  ...      1\n",
              "10       5  ...      1\n",
              "11       5  ...      1\n",
              "12       2  ...      0\n",
              "13       5  ...      1\n",
              "14       5  ...      1\n",
              "15       5  ...      1\n",
              "16       5  ...      1\n",
              "17       5  ...      1\n",
              "18       5  ...      1\n",
              "19       5  ...      1\n",
              "20       5  ...      1\n",
              "\n",
              "[20 rows x 4 columns]"
            ]
          },
          "metadata": {
            "tags": []
          },
          "execution_count": 30
        }
      ]
    },
    {
      "cell_type": "code",
      "metadata": {
        "id": "g4y0BGajlcSM",
        "colab_type": "code",
        "colab": {}
      },
      "source": [
        "# иначе у нас не будет работать классификация\n",
        "df['Rating'] -= 1"
      ],
      "execution_count": 31,
      "outputs": []
    },
    {
      "cell_type": "code",
      "metadata": {
        "id": "396Zjfz4gnkN",
        "colab_type": "code",
        "colab": {
          "base_uri": "https://localhost:8080/",
          "height": 34
        },
        "outputId": "fd1575db-f88a-4502-92a1-eca7955f0fec"
      },
      "source": [
        "df['Rating'].unique()"
      ],
      "execution_count": 32,
      "outputs": [
        {
          "output_type": "execute_result",
          "data": {
            "text/plain": [
              "array([4, 3, 1, 2, 0])"
            ]
          },
          "metadata": {
            "tags": []
          },
          "execution_count": 32
        }
      ]
    },
    {
      "cell_type": "code",
      "metadata": {
        "id": "wTyqPgF0Bh6m",
        "colab_type": "code",
        "colab": {}
      },
      "source": [
        "from sklearn.model_selection import train_test_split"
      ],
      "execution_count": 33,
      "outputs": []
    },
    {
      "cell_type": "code",
      "metadata": {
        "id": "tOUmPSGQCWrN",
        "colab_type": "code",
        "colab": {}
      },
      "source": [
        "df_train, df_val = train_test_split(df, train_size=0.8)"
      ],
      "execution_count": 34,
      "outputs": []
    },
    {
      "cell_type": "code",
      "metadata": {
        "id": "Tj26k-j5C4gA",
        "colab_type": "code",
        "colab": {
          "base_uri": "https://localhost:8080/",
          "height": 204
        },
        "outputId": "e3a707ca-cc13-4cd6-a626-c389e855f29d"
      },
      "source": [
        "df_train.head()"
      ],
      "execution_count": 35,
      "outputs": [
        {
          "output_type": "execute_result",
          "data": {
            "text/html": [
              "<div>\n",
              "<style scoped>\n",
              "    .dataframe tbody tr th:only-of-type {\n",
              "        vertical-align: middle;\n",
              "    }\n",
              "\n",
              "    .dataframe tbody tr th {\n",
              "        vertical-align: top;\n",
              "    }\n",
              "\n",
              "    .dataframe thead th {\n",
              "        text-align: right;\n",
              "    }\n",
              "</style>\n",
              "<table border=\"1\" class=\"dataframe\">\n",
              "  <thead>\n",
              "    <tr style=\"text-align: right;\">\n",
              "      <th></th>\n",
              "      <th>Rating</th>\n",
              "      <th>Content</th>\n",
              "      <th>Date</th>\n",
              "      <th>target</th>\n",
              "    </tr>\n",
              "  </thead>\n",
              "  <tbody>\n",
              "    <tr>\n",
              "      <th>15182</th>\n",
              "      <td>4</td>\n",
              "      <td>финансы рука</td>\n",
              "      <td>2017-07-22</td>\n",
              "      <td>1</td>\n",
              "    </tr>\n",
              "    <tr>\n",
              "      <th>20042</th>\n",
              "      <td>4</td>\n",
              "      <td>норма</td>\n",
              "      <td>2017-06-16</td>\n",
              "      <td>1</td>\n",
              "    </tr>\n",
              "    <tr>\n",
              "      <th>2407</th>\n",
              "      <td>4</td>\n",
              "      <td>s</td>\n",
              "      <td>2017-08-10</td>\n",
              "      <td>1</td>\n",
              "    </tr>\n",
              "    <tr>\n",
              "      <th>11664</th>\n",
              "      <td>4</td>\n",
              "      <td>удобно использование</td>\n",
              "      <td>2017-07-28</td>\n",
              "      <td>1</td>\n",
              "    </tr>\n",
              "    <tr>\n",
              "      <th>10746</th>\n",
              "      <td>4</td>\n",
              "      <td>довольный хороший приложение пользоваться удоб...</td>\n",
              "      <td>2017-07-30</td>\n",
              "      <td>1</td>\n",
              "    </tr>\n",
              "  </tbody>\n",
              "</table>\n",
              "</div>"
            ],
            "text/plain": [
              "       Rating  ... target\n",
              "15182       4  ...      1\n",
              "20042       4  ...      1\n",
              "2407        4  ...      1\n",
              "11664       4  ...      1\n",
              "10746       4  ...      1\n",
              "\n",
              "[5 rows x 4 columns]"
            ]
          },
          "metadata": {
            "tags": []
          },
          "execution_count": 35
        }
      ]
    },
    {
      "cell_type": "code",
      "metadata": {
        "id": "pviwDWtCC6jZ",
        "colab_type": "code",
        "colab": {
          "base_uri": "https://localhost:8080/",
          "height": 204
        },
        "outputId": "0b10b0d7-e0ae-457a-b282-94bf60e5b585"
      },
      "source": [
        "df_val.head()"
      ],
      "execution_count": 36,
      "outputs": [
        {
          "output_type": "execute_result",
          "data": {
            "text/html": [
              "<div>\n",
              "<style scoped>\n",
              "    .dataframe tbody tr th:only-of-type {\n",
              "        vertical-align: middle;\n",
              "    }\n",
              "\n",
              "    .dataframe tbody tr th {\n",
              "        vertical-align: top;\n",
              "    }\n",
              "\n",
              "    .dataframe thead th {\n",
              "        text-align: right;\n",
              "    }\n",
              "</style>\n",
              "<table border=\"1\" class=\"dataframe\">\n",
              "  <thead>\n",
              "    <tr style=\"text-align: right;\">\n",
              "      <th></th>\n",
              "      <th>Rating</th>\n",
              "      <th>Content</th>\n",
              "      <th>Date</th>\n",
              "      <th>target</th>\n",
              "    </tr>\n",
              "  </thead>\n",
              "  <tbody>\n",
              "    <tr>\n",
              "      <th>8584</th>\n",
              "      <td>4</td>\n",
              "      <td>супер</td>\n",
              "      <td>2017-08-01</td>\n",
              "      <td>1</td>\n",
              "    </tr>\n",
              "    <tr>\n",
              "      <th>5571</th>\n",
              "      <td>4</td>\n",
              "      <td>обновление s мочь войти приложение отправить о...</td>\n",
              "      <td>2017-08-06</td>\n",
              "      <td>1</td>\n",
              "    </tr>\n",
              "    <tr>\n",
              "      <th>13340</th>\n",
              "      <td>4</td>\n",
              "      <td>нормальный работать</td>\n",
              "      <td>2017-07-25</td>\n",
              "      <td>1</td>\n",
              "    </tr>\n",
              "    <tr>\n",
              "      <th>9142</th>\n",
              "      <td>4</td>\n",
              "      <td>удобно один слово банк карман s</td>\n",
              "      <td>2017-08-01</td>\n",
              "      <td>1</td>\n",
              "    </tr>\n",
              "    <tr>\n",
              "      <th>12010</th>\n",
              "      <td>4</td>\n",
              "      <td>удобный управление</td>\n",
              "      <td>2017-07-28</td>\n",
              "      <td>1</td>\n",
              "    </tr>\n",
              "  </tbody>\n",
              "</table>\n",
              "</div>"
            ],
            "text/plain": [
              "       Rating  ... target\n",
              "8584        4  ...      1\n",
              "5571        4  ...      1\n",
              "13340       4  ...      1\n",
              "9142        4  ...      1\n",
              "12010       4  ...      1\n",
              "\n",
              "[5 rows x 4 columns]"
            ]
          },
          "metadata": {
            "tags": []
          },
          "execution_count": 36
        }
      ]
    },
    {
      "cell_type": "code",
      "metadata": {
        "id": "RuG875ZlDU5c",
        "colab_type": "code",
        "colab": {
          "base_uri": "https://localhost:8080/",
          "height": 51
        },
        "outputId": "f249e06c-1a3e-4d57-cf11-3af50769f5c3"
      },
      "source": [
        "#nltk.download(\"punkt\")\n",
        "train_tokens = nltk.word_tokenize(\" \".join(df_train[\"Content\"]))"
      ],
      "execution_count": 38,
      "outputs": [
        {
          "output_type": "stream",
          "text": [
            "[nltk_data] Downloading package punkt to /root/nltk_data...\n",
            "[nltk_data]   Unzipping tokenizers/punkt.zip.\n"
          ],
          "name": "stdout"
        }
      ]
    },
    {
      "cell_type": "code",
      "metadata": {
        "id": "uZ3JNw82DgZN",
        "colab_type": "code",
        "colab": {}
      },
      "source": [
        "tokens_filtered = [word for word in train_tokens if word.isalnum()]\n",
        "\n",
        "dist = nltk.probability.FreqDist(tokens_filtered)\n",
        "vocabulary = {pair[0]:i for i, pair in enumerate(dist.most_common(max_words-1), 1)}"
      ],
      "execution_count": 39,
      "outputs": []
    },
    {
      "cell_type": "code",
      "metadata": {
        "id": "4kteUnBm13o9",
        "colab_type": "code",
        "colab": {
          "base_uri": "https://localhost:8080/",
          "height": 1000
        },
        "outputId": "5348d2d4-9d88-4bed-8ca8-860087fe1366"
      },
      "source": [
        "tokens_filtered"
      ],
      "execution_count": 40,
      "outputs": [
        {
          "output_type": "execute_result",
          "data": {
            "text/plain": [
              "['финансы',\n",
              " 'рука',\n",
              " 'норма',\n",
              " 's',\n",
              " 'удобно',\n",
              " 'использование',\n",
              " 'довольный',\n",
              " 'хороший',\n",
              " 'приложение',\n",
              " 'пользоваться',\n",
              " 'удобно',\n",
              " 's',\n",
              " 'терять',\n",
              " 'поход',\n",
              " 'банк',\n",
              " 'приложение',\n",
              " 'пропасть',\n",
              " 'вклад',\n",
              " 'довольный',\n",
              " 'сброс',\n",
              " 'настройка',\n",
              " 'телефон',\n",
              " 'заводский',\n",
              " 's',\n",
              " 'мочь',\n",
              " 'скачать',\n",
              " 'приложение',\n",
              " 'глючить',\n",
              " 'работать',\n",
              " 'исправно',\n",
              " 'довольный',\n",
              " 'удобно',\n",
              " 'простой',\n",
              " 'супер',\n",
              " 'спасиб',\n",
              " 'сервиз',\n",
              " 'простой',\n",
              " 'удобный',\n",
              " 'использование',\n",
              " 'интерфейс',\n",
              " 's',\n",
              " 'супер',\n",
              " 'говорят',\n",
              " 'хакер',\n",
              " 'взламывать',\n",
              " 'мобильный',\n",
              " 'банк',\n",
              " 'тьфутьф',\n",
              " 'мой',\n",
              " 's',\n",
              " 'добраться',\n",
              " 'нормас',\n",
              " 'новый',\n",
              " 'прошивка',\n",
              " 'sкорректно',\n",
              " 'распознать',\n",
              " 'root',\n",
              " 'телефон',\n",
              " 'meizu',\n",
              " 'находить',\n",
              " 'root',\n",
              " 'sт',\n",
              " 'просить',\n",
              " 'скорректировать',\n",
              " 'распознавание',\n",
              " 'ос',\n",
              " 'flyme',\n",
              " 'заходить',\n",
              " 'шаблон',\n",
              " 'приложение',\n",
              " 'вылетать',\n",
              " 'шаблон',\n",
              " 'почемуть',\n",
              " 'отображаться',\n",
              " 'контакт',\n",
              " 'смартфон',\n",
              " 'никак',\n",
              " 's',\n",
              " 'отличный',\n",
              " 'приложение',\n",
              " 'работать',\n",
              " 'удобно',\n",
              " 'быстро',\n",
              " 'замечательный',\n",
              " 'регулярно',\n",
              " 'входить',\n",
              " 'попытка',\n",
              " 'ввод',\n",
              " 'пароль',\n",
              " 'повторный',\n",
              " 'дактилоскопия',\n",
              " 'ужас',\n",
              " '10',\n",
              " 'пытаться',\n",
              " 'зарегистрироваться',\n",
              " 'бесполезный',\n",
              " 'дело',\n",
              " 'разработчик',\n",
              " 'нахер',\n",
              " 'выкладывать',\n",
              " 'приложение',\n",
              " 'который',\n",
              " 's',\n",
              " 'работать',\n",
              " 'суперспасибо',\n",
              " 'ставить',\n",
              " '5',\n",
              " 'удобно',\n",
              " 'минус',\n",
              " 'sт',\n",
              " 'sнайти',\n",
              " 'вывод',\n",
              " 'интерн',\n",
              " 'sт',\n",
              " 'кошелёк',\n",
              " 'приложение',\n",
              " 'хорошоя',\n",
              " 'удобно',\n",
              " 'быстро',\n",
              " 'забыть',\n",
              " 'логин',\n",
              " 's',\n",
              " 'мочь',\n",
              " 'войти',\n",
              " 'супер',\n",
              " 'полный',\n",
              " 'хрень',\n",
              " 'сбербанк',\n",
              " 's',\n",
              " 'отказывать',\n",
              " 'кредит',\n",
              " 'равно',\n",
              " 'верный',\n",
              " 'удобно',\n",
              " 'быстро',\n",
              " 'стабильно',\n",
              " 'допилить',\n",
              " 's',\n",
              " 'имение',\n",
              " 'горничный',\n",
              " 'любить',\n",
              " 'дворник',\n",
              " 'приложение',\n",
              " 'поэтому',\n",
              " '5',\n",
              " 'обновление',\n",
              " 'стать',\n",
              " 'грузиться',\n",
              " 'изз',\n",
              " 'проверка',\n",
              " 'антивирус',\n",
              " 'нормальный',\n",
              " 'обновление',\n",
              " 'программа',\n",
              " 'добавить',\n",
              " 'антивирус',\n",
              " 'стать',\n",
              " 'убого',\n",
              " 'уважаемый',\n",
              " 'разработчик',\n",
              " 'вернуть',\n",
              " 'старый',\n",
              " 'версия',\n",
              " 'большинство',\n",
              " 'человек',\n",
              " 'телефон',\n",
              " 'meizu',\n",
              " 'изз',\n",
              " 'ваш',\n",
              " 'антивирус',\n",
              " 'приложение',\n",
              " 'дать',\n",
              " 'модель',\n",
              " 'стать',\n",
              " 'бесполезный',\n",
              " 'пароль',\n",
              " 'раз',\n",
              " 'запрашивать',\n",
              " 'открываться',\n",
              " 'вылетать',\n",
              " 'вообще',\n",
              " 'писать',\n",
              " 'прошивка',\n",
              " 'sоригинальный',\n",
              " 'запрашивать',\n",
              " 'рута',\n",
              " 'доступ',\n",
              " 'который',\n",
              " 'жизнь',\n",
              " 's',\n",
              " 'слышать',\n",
              " 's',\n",
              " 'подтираться',\n",
              " 'пользоваться',\n",
              " 'приложение',\n",
              " 'собственный',\n",
              " 'номер',\n",
              " 'телефон',\n",
              " 's',\n",
              " 'мочь',\n",
              " 'ден',\n",
              " 'sг',\n",
              " 'положить',\n",
              " 'ужасно',\n",
              " 'почитать',\n",
              " 'отзыв',\n",
              " 'принять',\n",
              " 'мера',\n",
              " 'иначе',\n",
              " 'нафиг',\n",
              " 's',\n",
              " 'приложение',\n",
              " 'каждый',\n",
              " 'обновление',\n",
              " 'нагружать',\n",
              " 'нагружать',\n",
              " 'прилаг',\n",
              " 's',\n",
              " 'работать',\n",
              " 'вход',\n",
              " 'отпечаток',\n",
              " 'redmi',\n",
              " '4',\n",
              " 'pro',\n",
              " 'настройка',\n",
              " 'выбирать',\n",
              " 'след',\n",
              " 'вход',\n",
              " 's',\n",
              " 'применяетперемануть',\n",
              " 'программист',\n",
              " 'тинькова',\n",
              " 'хороший',\n",
              " 'программа',\n",
              " 'удобный',\n",
              " 'приложение',\n",
              " 'устраивать',\n",
              " 'чудо',\n",
              " 'здорово',\n",
              " 'быстро',\n",
              " 'красиво',\n",
              " 'оформить',\n",
              " 'отлично',\n",
              " 'наймит',\n",
              " 'пряморукий',\n",
              " 'программист',\n",
              " 'отключить',\n",
              " 'свой',\n",
              " 'антивирус',\n",
              " 'вообще',\n",
              " 's',\n",
              " 'грузиться',\n",
              " 'приложение',\n",
              " 's',\n",
              " 'нравиться',\n",
              " 'удобно',\n",
              " 's',\n",
              " 'бегать',\n",
              " 'банк',\n",
              " 'последний',\n",
              " 'обновление',\n",
              " 'испортить',\n",
              " 'приложение',\n",
              " 'пользоваться',\n",
              " 'мобильный',\n",
              " 'банк',\n",
              " 'sго',\n",
              " 'обновление',\n",
              " 'классный',\n",
              " 'антивирус',\n",
              " 's',\n",
              " 'ограничить',\n",
              " 'функция',\n",
              " 'аля',\n",
              " 'рута',\n",
              " 'sоригинальный',\n",
              " 'прошивка',\n",
              " 'форум',\n",
              " 'телефон',\n",
              " 'дать',\n",
              " 'проблема',\n",
              " 'появиться',\n",
              " 'обращаться',\n",
              " 'техподдержка',\n",
              " 'признать',\n",
              " 'свой',\n",
              " 'косяк',\n",
              " 's',\n",
              " 'предпринять',\n",
              " 'единственный',\n",
              " 'решение',\n",
              " 'пользоваться',\n",
              " 'старый',\n",
              " 'версия',\n",
              " 'телефон',\n",
              " 'meizu',\n",
              " 'u20',\n",
              " 'прошивка',\n",
              " 'идти',\n",
              " 'коробка',\n",
              " 'удобно',\n",
              " 'оплачивать',\n",
              " 'счита',\n",
              " 'коммунальный',\n",
              " 'услугиинтерна',\n",
              " 'sт',\n",
              " 'штраф',\n",
              " 'хороший',\n",
              " 'банковский',\n",
              " 'приложение',\n",
              " 'мейза',\n",
              " 'китайский',\n",
              " 'прошивка',\n",
              " 'сбербанк',\n",
              " 'свой',\n",
              " 'антивирус',\n",
              " 'достать',\n",
              " 's',\n",
              " 'мочь',\n",
              " 'пользоваться',\n",
              " 'приложение',\n",
              " 'убрать',\n",
              " 'свой',\n",
              " 'антивирусиль',\n",
              " 'сделать',\n",
              " 'исключение',\n",
              " 'китайский',\n",
              " 'телефон',\n",
              " 'удобный',\n",
              " 'хороший',\n",
              " 'приложение',\n",
              " 'супер',\n",
              " 'удобно',\n",
              " 'удобно',\n",
              " 'отличный',\n",
              " 'приложение',\n",
              " 'управлять',\n",
              " 'финансы',\n",
              " 'пара',\n",
              " 'клик',\n",
              " 'отлично',\n",
              " 'сб',\n",
              " 'молодец',\n",
              " 'удобный',\n",
              " 'приложение',\n",
              " 'работать',\n",
              " 'чётко',\n",
              " 'быстро',\n",
              " 'приложение',\n",
              " 'whaff',\n",
              " 'купон',\n",
              " '10',\n",
              " 'регистрация',\n",
              " 'cr35582',\n",
              " 'ващий',\n",
              " 'мой',\n",
              " 'любимый',\n",
              " 'приложение',\n",
              " 'приходить',\n",
              " 'гонорар',\n",
              " 'работать',\n",
              " 'довольный',\n",
              " 'удобно',\n",
              " 'удобный',\n",
              " 'приложение',\n",
              " 'устраивать',\n",
              " 'стабильный',\n",
              " 'работа',\n",
              " 'удобный',\n",
              " 'интерфейс',\n",
              " 'ок',\n",
              " 'удобно',\n",
              " 'хотеть',\n",
              " 'пользоваться',\n",
              " 'приложение',\n",
              " 'сбербанк',\n",
              " 'онлайн',\n",
              " 'андроид',\n",
              " 's',\n",
              " 'возможно',\n",
              " 'зайти',\n",
              " 'бред',\n",
              " 'дурацкий',\n",
              " 'обнавление',\n",
              " 'right',\n",
              " 'root',\n",
              " 'доступ',\n",
              " 'многий',\n",
              " 'суть',\n",
              " 'перестать',\n",
              " 'пользоваться',\n",
              " 'приложение',\n",
              " 'обновление',\n",
              " 'сайт',\n",
              " 'телефон',\n",
              " 'meizu',\n",
              " 'безопасность',\n",
              " 'кон',\n",
              " 'sчный',\n",
              " 'круто',\n",
              " 'получаться',\n",
              " 's',\n",
              " 'приложение',\n",
              " 'рассчитать',\n",
              " 's',\n",
              " 'стать',\n",
              " 'ради',\n",
              " 'сбербанк',\n",
              " 'онлайн',\n",
              " 'айфон',\n",
              " 'sony',\n",
              " 'покупать',\n",
              " 'заработать',\n",
              " 'звезда',\n",
              " 'простой',\n",
              " 'полезный',\n",
              " 'программа',\n",
              " 'работать',\n",
              " 'отлично',\n",
              " 'красавица',\n",
              " 'супермолодцырадовать',\n",
              " 'сбербанк',\n",
              " 'ок',\n",
              " 'каждый',\n",
              " 'обновление',\n",
              " 'становиться',\n",
              " 'худой',\n",
              " 'худой',\n",
              " 'долгий',\n",
              " 'проверка',\n",
              " 'подлинность',\n",
              " 'дважды',\n",
              " 'проверяться',\n",
              " 'пароль',\n",
              " 'оплата',\n",
              " 'шаблон',\n",
              " 'sвозможный',\n",
              " 'провести',\n",
              " 'сразу',\n",
              " 'выкидывать',\n",
              " 'приложение',\n",
              " 'посмотреть',\n",
              " 'остаток',\n",
              " 'карта',\n",
              " 'остальной',\n",
              " 'операция',\n",
              " 'комп',\n",
              " 'приложение',\n",
              " 'место',\n",
              " 'телефон',\n",
              " 's',\n",
              " 'занимать',\n",
              " 'супер',\n",
              " 'удобный',\n",
              " 'приложение',\n",
              " 'sвероятно',\n",
              " 'легко',\n",
              " 'выше',\n",
              " 'похвалразработчик',\n",
              " 'премия',\n",
              " 'удобно',\n",
              " 'гуд',\n",
              " 'удобнобыстродешево',\n",
              " 's',\n",
              " 'устанавливаетписать',\n",
              " 'ошибка',\n",
              " 'супер',\n",
              " 'экономия',\n",
              " 'личный',\n",
              " 'функциональный',\n",
              " 'приложение',\n",
              " 'один',\n",
              " 'версия',\n",
              " 'отличаться',\n",
              " 'sбо',\n",
              " 'земля',\n",
              " 'каждый',\n",
              " 'новый',\n",
              " 'запуск',\n",
              " 'инициализировать',\n",
              " 'запуск',\n",
              " 'антивирус',\n",
              " 'проверять',\n",
              " 'рута',\n",
              " 'ос',\n",
              " 's',\n",
              " 'нравиться',\n",
              " 'сысоев',\n",
              " 'любовь',\n",
              " 'иван',\n",
              " 'класс',\n",
              " 'приложение',\n",
              " 's',\n",
              " 'нравиться',\n",
              " 'удобно',\n",
              " 'легко',\n",
              " 'пользоваться',\n",
              " 'приложение',\n",
              " 'быстро',\n",
              " 'удобно',\n",
              " 'возрасесть',\n",
              " 'приложение',\n",
              " 'стать',\n",
              " 'палочка',\n",
              " 'выручалочка',\n",
              " 's',\n",
              " 'мочь',\n",
              " 'выходить',\n",
              " 'дом',\n",
              " 'удобно',\n",
              " 'стабильный',\n",
              " 'связь',\n",
              " 'удобный',\n",
              " 'приложение',\n",
              " 'довольный',\n",
              " 'удобство',\n",
              " 'удобный',\n",
              " 'приложение',\n",
              " 's',\n",
              " 'устанавливаться',\n",
              " 'удобно',\n",
              " 'номер',\n",
              " 'телефонный',\n",
              " 'книга',\n",
              " 'убирать',\n",
              " 'удобно',\n",
              " 'мешать',\n",
              " 'работать',\n",
              " 'замечательный',\n",
              " 'хороший',\n",
              " 'приложение',\n",
              " 'удобный',\n",
              " 'приложениеэкономить',\n",
              " 'подключить',\n",
              " 's',\n",
              " 'успеть',\n",
              " 'разобраться',\n",
              " 'удобно',\n",
              " 'быстро',\n",
              " 'качествено',\n",
              " '5',\n",
              " 'секунда',\n",
              " 'экран',\n",
              " 'табличка',\n",
              " 'приложение',\n",
              " 'сбербанк',\n",
              " 'произойти',\n",
              " 'ошибка',\n",
              " 's',\n",
              " 'пользоваться',\n",
              " 'приложение',\n",
              " 'читать',\n",
              " 'чтоть',\n",
              " 'браузер',\n",
              " 'нафиг',\n",
              " 's',\n",
              " 'тинькова',\n",
              " 'након',\n",
              " 'sцтый',\n",
              " 'перестать',\n",
              " 'волноваться',\n",
              " 'какой',\n",
              " 'телефон',\n",
              " 'прошивка',\n",
              " 'пользоваться',\n",
              " 'удалить',\n",
              " 'месяц',\n",
              " 'приложение',\n",
              " 'изз',\n",
              " 'прекращение',\n",
              " 'sкоторое',\n",
              " 'функция',\n",
              " 'следствие',\n",
              " 'штатный',\n",
              " 'антивирус',\n",
              " 'загрузить',\n",
              " 'заработать',\n",
              " 'старое',\n",
              " 'добрый',\n",
              " 'время',\n",
              " 'удобно',\n",
              " 'банкомат',\n",
              " 'рука',\n",
              " 'отлично',\n",
              " 's',\n",
              " 'нравиться',\n",
              " 'удобно',\n",
              " 'удобный',\n",
              " 'сервис',\n",
              " 'упрощать',\n",
              " 'экономить',\n",
              " 'удобный',\n",
              " 'онлайн',\n",
              " 'банк',\n",
              " 'ждать',\n",
              " 'новый',\n",
              " 'версия',\n",
              " 'супер',\n",
              " 'самый',\n",
              " 'удобный',\n",
              " 'банкклиент',\n",
              " 'супер',\n",
              " 'imnot',\n",
              " 'happy',\n",
              " 'app',\n",
              " 'lags',\n",
              " 'andnot',\n",
              " 'user',\n",
              " 'friendly',\n",
              " 'make',\n",
              " 'life',\n",
              " 'easy',\n",
              " 'instead',\n",
              " 'creates',\n",
              " 'problems',\n",
              " 'хреноводеньга',\n",
              " 'перечислить',\n",
              " 'танец',\n",
              " 'бубен',\n",
              " 'сделатькучий',\n",
              " 'подтверждение',\n",
              " 'банк',\n",
              " 'код',\n",
              " 's',\n",
              " 'давать',\n",
              " 'хороший',\n",
              " 'приложение',\n",
              " 'хороший',\n",
              " 'приложение',\n",
              " 'sдостаток',\n",
              " 's',\n",
              " 'выявить',\n",
              " 'чётко',\n",
              " 'структурировать',\n",
              " 'понятно',\n",
              " 'приятно',\n",
              " 'работать',\n",
              " 'такой',\n",
              " 'приложение',\n",
              " 'нормальный',\n",
              " 'приложение',\n",
              " 'конфликтовать',\n",
              " 'антивирус',\n",
              " 'встроить',\n",
              " 'телефон',\n",
              " 'встроить',\n",
              " 'приложение',\n",
              " 'долгий',\n",
              " 'инициализация',\n",
              " 'приложение',\n",
              " 's',\n",
              " 'нравиться',\n",
              " 'удобный',\n",
              " 'приложение',\n",
              " 's',\n",
              " 'разобраться',\n",
              " 'возможность',\n",
              " 'узнать',\n",
              " 'информация',\n",
              " 'кредит',\n",
              " 'заказать',\n",
              " 'досрочный',\n",
              " 'погашение',\n",
              " 'добавить',\n",
              " 'функция',\n",
              " 'закрытие',\n",
              " 'вклад',\n",
              " 'устраиваести',\n",
              " 'видеть',\n",
              " 'счетана',\n",
              " 's',\n",
              " 'идтиискать',\n",
              " 'банкоматсраз',\n",
              " 'перевести',\n",
              " 'деньгиотличный',\n",
              " 'приложение',\n",
              " 'приллжение',\n",
              " 's',\n",
              " 'видеть',\n",
              " 'sкоторое',\n",
              " 'клиент',\n",
              " 'сбербанк',\n",
              " 'список',\n",
              " 'контакт',\n",
              " 'доступнопонятный',\n",
              " 'обращение',\n",
              " 'хороший',\n",
              " 'приложение',\n",
              " 'молодец',\n",
              " 'создатель',\n",
              " 'nfc',\n",
              " 's',\n",
              " 'смочь',\n",
              " 'настроить',\n",
              " 'оплата',\n",
              " 'хороший',\n",
              " 'приложение',\n",
              " 'бывать',\n",
              " 'проблема',\n",
              " 'коммент',\n",
              " 'пользователь',\n",
              " 'передумать',\n",
              " 'устанавливать',\n",
              " 'разработчик',\n",
              " 'хозяин',\n",
              " 'приложениямотать',\n",
              " 'усклиент',\n",
              " 's',\n",
              " 'довольный',\n",
              " 'отлично',\n",
              " 'рута',\n",
              " 'довно',\n",
              " 'убрать',\n",
              " 'стоить',\n",
              " 'лецензионный',\n",
              " 'антивирус',\n",
              " 'доквеб',\n",
              " 'ограничение',\n",
              " 'равно',\n",
              " 'действовать',\n",
              " 'общий',\n",
              " 'приложение',\n",
              " 'подходить',\n",
              " 'проверка',\n",
              " 'баланс',\n",
              " 'карта',\n",
              " 'снять',\n",
              " 'ограничение',\n",
              " 'рута',\n",
              " 'лишний',\n",
              " 'пароль',\n",
              " 'предпоследний',\n",
              " 'sго',\n",
              " 'обновление',\n",
              " 'работа',\n",
              " 'приложение',\n",
              " 'вообще',\n",
              " 'никакой',\n",
              " 'вопрос',\n",
              " 's',\n",
              " 'вызывать',\n",
              " 'обновление',\n",
              " 's',\n",
              " 'мочь',\n",
              " 'войти',\n",
              " 'приложение',\n",
              " 'писать',\n",
              " 'sобходить',\n",
              " 'проверка',\n",
              " 'антивирус',\n",
              " 'проверять',\n",
              " 's',\n",
              " 'мочь',\n",
              " 'войти',\n",
              " 'обновить',\n",
              " 'приложение',\n",
              " 's',\n",
              " 'получаться',\n",
              " 'обновление',\n",
              " 'скачиваться',\n",
              " 's',\n",
              " 'устанавливаться',\n",
              " 'удалять',\n",
              " 'приложение',\n",
              " 'который',\n",
              " 's',\n",
              " 'мочь',\n",
              " 'войти',\n",
              " 'девайс',\n",
              " 'asus',\n",
              " 'zenfone',\n",
              " '2',\n",
              " 'deluxe',\n",
              " 'se',\n",
              " 'устраивать',\n",
              " 'выпендрёжа',\n",
              " 'косяк',\n",
              " 'сменить',\n",
              " 'банк',\n",
              " 'худой',\n",
              " 'худой',\n",
              " 'каждый',\n",
              " 'разом',\n",
              " 'глючить',\n",
              " 'медленно',\n",
              " 'запускаться',\n",
              " 'вылетать',\n",
              " 'удобный',\n",
              " 'приложение',\n",
              " 'рута',\n",
              " 'право',\n",
              " 'телефон',\n",
              " 's',\n",
              " 'перевод',\n",
              " 'исчезнуть',\n",
              " 'делать',\n",
              " 's',\n",
              " 'мочь',\n",
              " 'удалить',\n",
              " 'рута',\n",
              " 'право',\n",
              " 'зарана',\n",
              " 'sе',\n",
              " 'принцип',\n",
              " 's',\n",
              " 'плохо',\n",
              " 'раздражать',\n",
              " 'уведомление',\n",
              " 'проблемный',\n",
              " 'войти',\n",
              " 'нравиться',\n",
              " 'удобный',\n",
              " 'сервис',\n",
              " 'управлять',\n",
              " 'свой',\n",
              " 'финансы',\n",
              " 's',\n",
              " 'выходить',\n",
              " 'дом',\n",
              " 'идти',\n",
              " 'роль',\n",
              " 'приложение',\n",
              " 'хороший',\n",
              " 's',\n",
              " 'функционал',\n",
              " 'хватать',\n",
              " 'sмного',\n",
              " 'раздражать',\n",
              " 'постоянный',\n",
              " 'проверка',\n",
              " 'антивирус',\n",
              " 'включение',\n",
              " 'сделать',\n",
              " 'приятный',\n",
              " 'фоновый',\n",
              " 'картина',\n",
              " 'проверка',\n",
              " 'sизбежный',\n",
              " 'сбербанк',\n",
              " 'приятно',\n",
              " 'удивить',\n",
              " 'свой',\n",
              " 'приложение',\n",
              " 'удобно',\n",
              " 's',\n",
              " 'многий',\n",
              " 'нравиться',\n",
              " 'хотеться',\n",
              " 'меню',\n",
              " 'инструкция',\n",
              " 'sкоторым',\n",
              " 'приложение',\n",
              " 'хороший',\n",
              " 'приложение',\n",
              " 'удобный',\n",
              " 'приложениевсем',\n",
              " 'советовать',\n",
              " 'удобно',\n",
              " 'сидеть',\n",
              " 'дом',\n",
              " 'заплатить',\n",
              " 'сотовый',\n",
              " 'проверить',\n",
              " 'приход',\n",
              " 'средство',\n",
              " 'отличный',\n",
              " 'приложение',\n",
              " 'песопаснасть',\n",
              " 'рута',\n",
              " 'нужын',\n",
              " 'выкидывать',\n",
              " 'каждый',\n",
              " 'действие',\n",
              " 'писать',\n",
              " 'исправить',\n",
              " 'остальной',\n",
              " 'чудесна',\n",
              " 'sнький',\n",
              " 'косяк',\n",
              " 'ок',\n",
              " 'отлично',\n",
              " 'благодарить',\n",
              " 'оперативность',\n",
              " 'выручить',\n",
              " 's',\n",
              " 'мочь',\n",
              " 'повторно',\n",
              " 'установить',\n",
              " 'приложение',\n",
              " 'телефон',\n",
              " 'выдавать',\n",
              " 'ошибка',\n",
              " '24',\n",
              " 'исправт',\n",
              " 'кошмар',\n",
              " 'приложение',\n",
              " 'айфон',\n",
              " 'работать',\n",
              " 'вообще',\n",
              " 'андроид',\n",
              " 'вопрос',\n",
              " 's',\n",
              " 'решаться',\n",
              " 'месяцами',\n",
              " 's',\n",
              " 'пополнять',\n",
              " 'карта',\n",
              " 's',\n",
              " 'мочь',\n",
              " 'использовать',\n",
              " 'мобильный',\n",
              " 'банк',\n",
              " 'изз',\n",
              " 'антивирус',\n",
              " 'аля',\n",
              " 'sоригинальный',\n",
              " 'прошивка',\n",
              " 'отлично',\n",
              " 'пароль',\n",
              " 'sверный',\n",
              " 'писать',\n",
              " 'нравиться',\n",
              " 'надеяться',\n",
              " 'дальний',\n",
              " 'sйшея',\n",
              " 'сотрудничесвый',\n",
              " 'ублюдочный',\n",
              " 'криворукий',\n",
              " 'тварь',\n",
              " 'сваять',\n",
              " 'последний',\n",
              " 'sе',\n",
              " 'обновление',\n",
              " 'просить',\n",
              " 'извинить',\n",
              " 'сила',\n",
              " 'мой',\n",
              " 'sт',\n",
              " 'нормальный',\n",
              " 'рабочий',\n",
              " 'версия',\n",
              " 'sт',\n",
              " 'обновлять',\n",
              " 'наиэтота',\n",
              " 'продукт',\n",
              " 'дефекация',\n",
              " 'имбицильный',\n",
              " 'пингвин',\n",
              " 'простой',\n",
              " 'перевод',\n",
              " 'занимать',\n",
              " 'втроечетверо',\n",
              " 'sвероятный',\n",
              " 'медлительность',\n",
              " 'категорический',\n",
              " 'sжелание',\n",
              " 'работать',\n",
              " 'ок',\n",
              " 'супер',\n",
              " 'абсолютно',\n",
              " 'новый',\n",
              " 'дорогой',\n",
              " 'девайс',\n",
              " '7й',\n",
              " 'андроид',\n",
              " '2',\n",
              " 'звезда',\n",
              " 'запуск',\n",
              " 'зависнуть',\n",
              " 'наглухо',\n",
              " 'антивирус',\n",
              " '64',\n",
              " 'гиго',\n",
              " 'проверять',\n",
              " 'довольный',\n",
              " 'жрать',\n",
              " 'ресурс',\n",
              " 'оправдать',\n",
              " 'приходиться',\n",
              " 'отключать',\n",
              " 'поэтому',\n",
              " 'супер',\n",
              " 'думаета',\n",
              " 'таквсё',\n",
              " 'отлично',\n",
              " 'отличный',\n",
              " 'приложениевсем',\n",
              " 'довольный',\n",
              " 'best',\n",
              " 'класс',\n",
              " 'быстро',\n",
              " 'удобно',\n",
              " 'sдавно',\n",
              " 's',\n",
              " 'нужный',\n",
              " 'оооочень',\n",
              " 'срочно',\n",
              " 'положить',\n",
              " 'деньга',\n",
              " 'тело',\n",
              " ...]"
            ]
          },
          "metadata": {
            "tags": []
          },
          "execution_count": 40
        }
      ]
    },
    {
      "cell_type": "code",
      "metadata": {
        "id": "nSCodKewEZEz",
        "colab_type": "code",
        "colab": {}
      },
      "source": [
        "def text_to_sequence(text, maxlen):\n",
        "    result = []\n",
        "    tokens = nltk.word_tokenize(text.lower())\n",
        "    tokens_filtered = [word for word in tokens if word.isalnum()]\n",
        "    for word in tokens_filtered:\n",
        "        if word in vocabulary:\n",
        "            result.append(vocabulary[word])\n",
        "    padding = [0]*(maxlen-len(result))\n",
        "    return padding + result[-maxlen:]"
      ],
      "execution_count": 41,
      "outputs": []
    },
    {
      "cell_type": "code",
      "metadata": {
        "id": "AIjX2-trFED1",
        "colab_type": "code",
        "colab": {}
      },
      "source": [
        "X_train = np.asarray([text_to_sequence(text, max_len) for text in df_train[\"Content\"]], dtype=np.int32)"
      ],
      "execution_count": 42,
      "outputs": []
    },
    {
      "cell_type": "code",
      "metadata": {
        "id": "O13QXP2gFhmB",
        "colab_type": "code",
        "colab": {
          "base_uri": "https://localhost:8080/",
          "height": 85
        },
        "outputId": "710327d2-6c49-4d28-cffa-ddee4cfb4884"
      },
      "source": [
        "X_train[0]"
      ],
      "execution_count": 43,
      "outputs": [
        {
          "output_type": "execute_result",
          "data": {
            "text/plain": [
              "array([  0,   0,   0,   0,   0,   0,   0,   0,   0,   0,   0,   0,   0,\n",
              "         0,   0,   0,   0,   0,   0,   0,   0,   0,   0,   0,   0,   0,\n",
              "         0,   0,   0,   0,   0,   0,   0,   0,   0,   0,   0,   0, 183,\n",
              "       102], dtype=int32)"
            ]
          },
          "metadata": {
            "tags": []
          },
          "execution_count": 43
        }
      ]
    },
    {
      "cell_type": "code",
      "metadata": {
        "id": "S52m0rsrFo4O",
        "colab_type": "code",
        "colab": {}
      },
      "source": [
        "X_val = np.asarray([text_to_sequence(text, max_len) for text in df_val[\"Content\"]], dtype=np.int32)"
      ],
      "execution_count": 44,
      "outputs": []
    },
    {
      "cell_type": "markdown",
      "metadata": {
        "id": "v_Yz1iRtbJW4",
        "colab_type": "text"
      },
      "source": [
        "## Посмтроим модель на случайных весах"
      ]
    },
    {
      "cell_type": "code",
      "metadata": {
        "id": "SxTX2UyQGRkq",
        "colab_type": "code",
        "colab": {}
      },
      "source": [
        "import keras\n",
        "from keras.models import Sequential\n",
        "from keras.layers import Conv1D, GlobalMaxPool1D, Activation, Embedding, Dense\n",
        "from keras.objectives import categorical_crossentropy\n",
        "from keras.callbacks import EarlyStopping"
      ],
      "execution_count": 46,
      "outputs": []
    },
    {
      "cell_type": "code",
      "metadata": {
        "id": "bVOOUifxH0ea",
        "colab_type": "code",
        "colab": {}
      },
      "source": [
        "num_classes = len(df_train[\"Rating\"].unique())\n",
        "y_train = keras.utils.to_categorical(df_train[\"Rating\"], num_classes)\n",
        "y_val = keras.utils.to_categorical(df_val[\"Rating\"], num_classes)"
      ],
      "execution_count": 47,
      "outputs": []
    },
    {
      "cell_type": "code",
      "metadata": {
        "id": "1XDitUrGImcq",
        "colab_type": "code",
        "colab": {}
      },
      "source": [
        "model = Sequential()\n",
        "model.add(Embedding(input_dim=max_words, output_dim=128, input_length=max_len))\n",
        "model.add(Conv1D(128, 3))\n",
        "model.add(Activation(\"relu\"))\n",
        "model.add(GlobalMaxPool1D())\n",
        "model.add(Dense(10))\n",
        "model.add(Activation(\"relu\"))\n",
        "model.add(Dense(num_classes))\n",
        "model.add(Activation('softmax'))"
      ],
      "execution_count": 48,
      "outputs": []
    },
    {
      "cell_type": "code",
      "metadata": {
        "id": "NAWJxzJHJ0Um",
        "colab_type": "code",
        "colab": {}
      },
      "source": [
        "model.compile(loss='categorical_crossentropy',\n",
        "              optimizer='adam',\n",
        "              metrics=['accuracy'])"
      ],
      "execution_count": 49,
      "outputs": []
    },
    {
      "cell_type": "code",
      "metadata": {
        "id": "Hkhh0pZqLJH6",
        "colab_type": "code",
        "colab": {}
      },
      "source": [
        "early_stopping = EarlyStopping(monitor='val_loss')"
      ],
      "execution_count": 50,
      "outputs": []
    },
    {
      "cell_type": "code",
      "metadata": {
        "id": "KLTNbj7-LkCW",
        "colab_type": "code",
        "colab": {}
      },
      "source": [
        "epochs = 100\n",
        "batch_size = 512"
      ],
      "execution_count": 51,
      "outputs": []
    },
    {
      "cell_type": "code",
      "metadata": {
        "id": "7yw_sY5dLEVa",
        "colab_type": "code",
        "colab": {
          "base_uri": "https://localhost:8080/",
          "height": 309
        },
        "outputId": "1740c453-dab1-442f-b8ed-d870a07350da"
      },
      "source": [
        "history = model.fit(X_train, y_train,\n",
        "                    batch_size=batch_size,\n",
        "                    epochs=epochs,\n",
        "                    verbose=1,\n",
        "                    validation_split=0.1,\n",
        "                    callbacks=[early_stopping])"
      ],
      "execution_count": 52,
      "outputs": [
        {
          "output_type": "stream",
          "text": [
            "Epoch 1/100\n",
            "29/29 [==============================] - 1s 19ms/step - loss: 1.2523 - accuracy: 0.6781 - val_loss: 0.9403 - val_accuracy: 0.7146\n",
            "Epoch 2/100\n",
            "29/29 [==============================] - 0s 12ms/step - loss: 0.8418 - accuracy: 0.7291 - val_loss: 0.7723 - val_accuracy: 0.7578\n",
            "Epoch 3/100\n",
            "29/29 [==============================] - 0s 11ms/step - loss: 0.7202 - accuracy: 0.7643 - val_loss: 0.7024 - val_accuracy: 0.7635\n",
            "Epoch 4/100\n",
            "29/29 [==============================] - 0s 12ms/step - loss: 0.6587 - accuracy: 0.7796 - val_loss: 0.6669 - val_accuracy: 0.7685\n",
            "Epoch 5/100\n",
            "29/29 [==============================] - 0s 12ms/step - loss: 0.6223 - accuracy: 0.7864 - val_loss: 0.6563 - val_accuracy: 0.7779\n",
            "Epoch 6/100\n",
            "29/29 [==============================] - 0s 11ms/step - loss: 0.5954 - accuracy: 0.7956 - val_loss: 0.6524 - val_accuracy: 0.7729\n",
            "Epoch 7/100\n",
            "29/29 [==============================] - 0s 11ms/step - loss: 0.5788 - accuracy: 0.8011 - val_loss: 0.6523 - val_accuracy: 0.7735\n",
            "Epoch 8/100\n",
            "29/29 [==============================] - 0s 11ms/step - loss: 0.5541 - accuracy: 0.8115 - val_loss: 0.6526 - val_accuracy: 0.7754\n"
          ],
          "name": "stdout"
        }
      ]
    },
    {
      "cell_type": "code",
      "metadata": {
        "id": "OeY2kZBnLslD",
        "colab_type": "code",
        "colab": {
          "base_uri": "https://localhost:8080/",
          "height": 68
        },
        "outputId": "a269bf08-f506-48a5-a028-aa5aa6d6fbfc"
      },
      "source": [
        "score = model.evaluate(X_val, y_val, batch_size=batch_size, verbose=1)\n",
        "print('Test score:', score[0])\n",
        "print('Test accuracy:', score[1])"
      ],
      "execution_count": 53,
      "outputs": [
        {
          "output_type": "stream",
          "text": [
            "8/8 [==============================] - 0s 16ms/step - loss: 0.6670 - accuracy: 0.7696\n",
            "Test score: 0.6669819355010986\n",
            "Test accuracy: 0.7696361541748047\n"
          ],
          "name": "stdout"
        }
      ]
    },
    {
      "cell_type": "markdown",
      "metadata": {
        "id": "1m414qR22OFy",
        "colab_type": "text"
      },
      "source": [
        "Теперь поменяем цель с Rating на Target (с 5 классов на 2)"
      ]
    },
    {
      "cell_type": "code",
      "metadata": {
        "colab_type": "code",
        "id": "oOF26RxT2Ywu",
        "colab": {}
      },
      "source": [
        "num_classes = 2\n",
        "y_train = keras.utils.to_categorical(df_train[\"target\"], num_classes)\n",
        "y_val = keras.utils.to_categorical(df_val[\"target\"], num_classes)"
      ],
      "execution_count": 54,
      "outputs": []
    },
    {
      "cell_type": "code",
      "metadata": {
        "colab_type": "code",
        "id": "5iqmJry02jGc",
        "colab": {}
      },
      "source": [
        "model = Sequential()\n",
        "model.add(Embedding(input_dim=max_words, output_dim=128, input_length=max_len))\n",
        "model.add(Conv1D(128, 3))\n",
        "model.add(Activation(\"relu\"))\n",
        "model.add(GlobalMaxPool1D())\n",
        "model.add(Dense(10))\n",
        "model.add(Activation(\"relu\"))\n",
        "model.add(Dense(num_classes))\n",
        "model.add(Activation('softmax'))"
      ],
      "execution_count": 55,
      "outputs": []
    },
    {
      "cell_type": "code",
      "metadata": {
        "colab_type": "code",
        "id": "e3UtWk9s2mQD",
        "colab": {}
      },
      "source": [
        "model.compile(loss='categorical_crossentropy',\n",
        "              optimizer='adam',\n",
        "              metrics=['accuracy'])"
      ],
      "execution_count": 56,
      "outputs": []
    },
    {
      "cell_type": "code",
      "metadata": {
        "colab_type": "code",
        "id": "4hUMwtNc2pJT",
        "colab": {
          "base_uri": "https://localhost:8080/",
          "height": 207
        },
        "outputId": "ed98d85d-7a04-40ce-c218-6d7cdcedec98"
      },
      "source": [
        "history = model.fit(X_train, y_train,\n",
        "                    batch_size=batch_size,\n",
        "                    epochs=epochs,\n",
        "                    verbose=1,\n",
        "                    validation_split=0.1,\n",
        "                    callbacks=[early_stopping])"
      ],
      "execution_count": 57,
      "outputs": [
        {
          "output_type": "stream",
          "text": [
            "Epoch 1/100\n",
            "29/29 [==============================] - 1s 17ms/step - loss: 0.5550 - accuracy: 0.7841 - val_loss: 0.4489 - val_accuracy: 0.8068\n",
            "Epoch 2/100\n",
            "29/29 [==============================] - 0s 12ms/step - loss: 0.3798 - accuracy: 0.8277 - val_loss: 0.2733 - val_accuracy: 0.8833\n",
            "Epoch 3/100\n",
            "29/29 [==============================] - 0s 12ms/step - loss: 0.2354 - accuracy: 0.9012 - val_loss: 0.2134 - val_accuracy: 0.9097\n",
            "Epoch 4/100\n",
            "29/29 [==============================] - 0s 12ms/step - loss: 0.1905 - accuracy: 0.9212 - val_loss: 0.2105 - val_accuracy: 0.9128\n",
            "Epoch 5/100\n",
            "29/29 [==============================] - 0s 12ms/step - loss: 0.1731 - accuracy: 0.9322 - val_loss: 0.2125 - val_accuracy: 0.9084\n"
          ],
          "name": "stdout"
        }
      ]
    },
    {
      "cell_type": "code",
      "metadata": {
        "colab_type": "code",
        "id": "-dCirgtn2uuP",
        "colab": {
          "base_uri": "https://localhost:8080/",
          "height": 68
        },
        "outputId": "b06c4f0e-0f86-48a9-f79c-5668c31641f0"
      },
      "source": [
        "score = model.evaluate(X_val, y_val, batch_size=batch_size, verbose=1)\n",
        "print('Test score:', score[0])\n",
        "print('Test accuracy:', score[1])"
      ],
      "execution_count": 58,
      "outputs": [
        {
          "output_type": "stream",
          "text": [
            "8/8 [==============================] - 0s 5ms/step - loss: 0.2319 - accuracy: 0.8976\n",
            "Test score: 0.23191452026367188\n",
            "Test accuracy: 0.8976160883903503\n"
          ],
          "name": "stdout"
        }
      ]
    },
    {
      "cell_type": "markdown",
      "metadata": {
        "id": "cZxRomeNnsI7",
        "colab_type": "text"
      },
      "source": [
        "## Word2Vec\n",
        "  \n",
        "Теперь попробуем предобученные вектора"
      ]
    },
    {
      "cell_type": "code",
      "metadata": {
        "id": "yAdMxMDwogGh",
        "colab_type": "code",
        "colab": {}
      },
      "source": [
        "from gensim.models import Word2Vec"
      ],
      "execution_count": 59,
      "outputs": []
    },
    {
      "cell_type": "code",
      "metadata": {
        "id": "hqg_vL7unotJ",
        "colab_type": "code",
        "colab": {}
      },
      "source": [
        "w2v = Word2Vec(size=128, window=5, min_count=2, workers=32)"
      ],
      "execution_count": 115,
      "outputs": []
    },
    {
      "cell_type": "code",
      "metadata": {
        "id": "kUn1SHUG3b74",
        "colab_type": "code",
        "colab": {}
      },
      "source": [
        "def tokenize(text):\n",
        "  tokens = nltk.word_tokenize(text)\n",
        "  tokens_filtered = set([word for word in tokens if word.isalnum()])\n",
        "\n",
        "  return tokens_filtered"
      ],
      "execution_count": 116,
      "outputs": []
    },
    {
      "cell_type": "code",
      "metadata": {
        "id": "8ntTER1tteJJ",
        "colab_type": "code",
        "colab": {
          "base_uri": "https://localhost:8080/",
          "height": 221
        },
        "outputId": "a3d32cf7-0550-475a-8da1-797999a48639"
      },
      "source": [
        "ttokens = df_train['Content'].apply(tokenize)\n",
        "ttokens"
      ],
      "execution_count": 117,
      "outputs": [
        {
          "output_type": "execute_result",
          "data": {
            "text/plain": [
              "15182                                      {рука, финансы}\n",
              "20042                                              {норма}\n",
              "2407                                                   {s}\n",
              "11664                              {использование, удобно}\n",
              "10746    {s, пользоваться, удобно, приложение, банк, до...\n",
              "                               ...                        \n",
              "2056            {s, удобно, зане, sмаять, нравитце, лично}\n",
              "10687                                             {удобно}\n",
              "14028                          {войти, s, мочь, антивирус}\n",
              "5090     {ограничить, перекладывать, сделать, разработа...\n",
              "14803    {ошибка, mx5, счёт, синхронизировать, тип, кон...\n",
              "Name: Content, Length: 15940, dtype: object"
            ]
          },
          "metadata": {
            "tags": []
          },
          "execution_count": 117
        }
      ]
    },
    {
      "cell_type": "code",
      "metadata": {
        "id": "Skb6IA1FolJo",
        "colab_type": "code",
        "colab": {}
      },
      "source": [
        "w2v.build_vocab(ttokens, progress_per=100)"
      ],
      "execution_count": 118,
      "outputs": []
    },
    {
      "cell_type": "code",
      "metadata": {
        "id": "ueSEmWUIot3a",
        "colab_type": "code",
        "colab": {
          "base_uri": "https://localhost:8080/",
          "height": 34
        },
        "outputId": "b1535207-473e-4c9a-fc6a-845e079e3330"
      },
      "source": [
        "w2v.train(ttokens, total_examples=w2v.corpus_count, epochs=20)"
      ],
      "execution_count": 119,
      "outputs": [
        {
          "output_type": "execute_result",
          "data": {
            "text/plain": [
              "(1176687, 1668040)"
            ]
          },
          "metadata": {
            "tags": []
          },
          "execution_count": 119
        }
      ]
    },
    {
      "cell_type": "code",
      "metadata": {
        "id": "3sJYafdNpIju",
        "colab_type": "code",
        "colab": {}
      },
      "source": [
        "embeddings = np.zeros((max_words, 128))"
      ],
      "execution_count": 120,
      "outputs": []
    },
    {
      "cell_type": "code",
      "metadata": {
        "id": "LtI7E949dUfv",
        "colab_type": "code",
        "colab": {}
      },
      "source": [
        "for word in vocabulary:\n",
        "  if word in w2v.wv.vocab:\n",
        "    embeddings[vocabulary[word]] = w2v.wv[word]"
      ],
      "execution_count": 121,
      "outputs": []
    },
    {
      "cell_type": "code",
      "metadata": {
        "id": "M8quiWBJfDJC",
        "colab_type": "code",
        "colab": {
          "base_uri": "https://localhost:8080/",
          "height": 238
        },
        "outputId": "a96b2cb4-56d1-4c46-cc97-2cbf815b514a"
      },
      "source": [
        "embeddings"
      ],
      "execution_count": 122,
      "outputs": [
        {
          "output_type": "execute_result",
          "data": {
            "text/plain": [
              "array([[ 0.        ,  0.        ,  0.        , ...,  0.        ,\n",
              "         0.        ,  0.        ],\n",
              "       [ 1.1003058 ,  0.70635337,  0.3843517 , ...,  0.95103842,\n",
              "        -0.14741552, -0.04479236],\n",
              "       [ 0.19707786,  0.12353148,  0.5505985 , ...,  0.05843328,\n",
              "         0.77665859,  0.42883533],\n",
              "       ...,\n",
              "       [ 0.19421297, -0.05573963,  0.27729911, ...,  0.32026148,\n",
              "        -0.13680755,  0.15143128],\n",
              "       [ 0.        ,  0.        ,  0.        , ...,  0.        ,\n",
              "         0.        ,  0.        ],\n",
              "       [ 0.        ,  0.        ,  0.        , ...,  0.        ,\n",
              "         0.        ,  0.        ]])"
            ]
          },
          "metadata": {
            "tags": []
          },
          "execution_count": 122
        }
      ]
    },
    {
      "cell_type": "code",
      "metadata": {
        "id": "If1Fo6Pr5qFP",
        "colab_type": "code",
        "colab": {}
      },
      "source": [
        "num_classes = len(df_train[\"Rating\"].unique())\n",
        "y_train = keras.utils.to_categorical(df_train[\"Rating\"], num_classes)\n",
        "y_val = keras.utils.to_categorical(df_val[\"Rating\"], num_classes)"
      ],
      "execution_count": 123,
      "outputs": []
    },
    {
      "cell_type": "code",
      "metadata": {
        "id": "ry4gNjJi5q_P",
        "colab_type": "code",
        "colab": {}
      },
      "source": [
        "model = Sequential()\n",
        "model.add(Embedding(input_dim=max_words, output_dim=128, input_length=max_len, weights=[embeddings]))\n",
        "model.add(Conv1D(128, 3))\n",
        "model.add(Activation(\"relu\"))\n",
        "model.add(GlobalMaxPool1D())\n",
        "model.add(Dense(10))\n",
        "model.add(Activation(\"relu\"))\n",
        "model.add(Dense(num_classes))\n",
        "model.add(Activation('softmax'))"
      ],
      "execution_count": 125,
      "outputs": []
    },
    {
      "cell_type": "code",
      "metadata": {
        "id": "oY0EyoIK5yNY",
        "colab_type": "code",
        "colab": {}
      },
      "source": [
        "model.compile(loss='categorical_crossentropy',\n",
        "              optimizer='adam',\n",
        "              metrics=['accuracy'])"
      ],
      "execution_count": 126,
      "outputs": []
    },
    {
      "cell_type": "code",
      "metadata": {
        "id": "KYMLHn0p500B",
        "colab_type": "code",
        "colab": {
          "base_uri": "https://localhost:8080/",
          "height": 309
        },
        "outputId": "dc2f4fa3-65aa-4698-89f8-7b6b69a8d454"
      },
      "source": [
        "history = model.fit(X_train, y_train,\n",
        "                    batch_size=batch_size,\n",
        "                    epochs=epochs,\n",
        "                    verbose=1,\n",
        "                    validation_split=0.1,\n",
        "                    callbacks=[early_stopping])"
      ],
      "execution_count": 127,
      "outputs": [
        {
          "output_type": "stream",
          "text": [
            "Epoch 1/100\n",
            "29/29 [==============================] - 1s 18ms/step - loss: 1.0365 - accuracy: 0.7041 - val_loss: 0.7312 - val_accuracy: 0.7622\n",
            "Epoch 2/100\n",
            "29/29 [==============================] - 0s 13ms/step - loss: 0.7195 - accuracy: 0.7592 - val_loss: 0.6808 - val_accuracy: 0.7654\n",
            "Epoch 3/100\n",
            "29/29 [==============================] - 0s 13ms/step - loss: 0.6814 - accuracy: 0.7654 - val_loss: 0.6669 - val_accuracy: 0.7716\n",
            "Epoch 4/100\n",
            "29/29 [==============================] - 0s 12ms/step - loss: 0.6597 - accuracy: 0.7684 - val_loss: 0.6639 - val_accuracy: 0.7704\n",
            "Epoch 5/100\n",
            "29/29 [==============================] - 0s 13ms/step - loss: 0.6452 - accuracy: 0.7717 - val_loss: 0.6596 - val_accuracy: 0.7685\n",
            "Epoch 6/100\n",
            "29/29 [==============================] - 0s 13ms/step - loss: 0.6327 - accuracy: 0.7733 - val_loss: 0.6567 - val_accuracy: 0.7654\n",
            "Epoch 7/100\n",
            "29/29 [==============================] - 0s 12ms/step - loss: 0.6267 - accuracy: 0.7740 - val_loss: 0.6567 - val_accuracy: 0.7666\n",
            "Epoch 8/100\n",
            "29/29 [==============================] - 0s 13ms/step - loss: 0.6133 - accuracy: 0.7791 - val_loss: 0.6576 - val_accuracy: 0.7622\n"
          ],
          "name": "stdout"
        }
      ]
    },
    {
      "cell_type": "code",
      "metadata": {
        "id": "YWo46w6B54pZ",
        "colab_type": "code",
        "colab": {
          "base_uri": "https://localhost:8080/",
          "height": 68
        },
        "outputId": "1b948d9b-87d6-438b-b87e-5916b48584ab"
      },
      "source": [
        "score = model.evaluate(X_val, y_val, batch_size=batch_size, verbose=1)\n",
        "print('Test score:', score[0])\n",
        "print('Test accuracy:', score[1])"
      ],
      "execution_count": 128,
      "outputs": [
        {
          "output_type": "stream",
          "text": [
            "8/8 [==============================] - 0s 5ms/step - loss: 0.6677 - accuracy: 0.7616\n",
            "Test score: 0.6677179932594299\n",
            "Test accuracy: 0.7616060376167297\n"
          ],
          "name": "stdout"
        }
      ]
    },
    {
      "cell_type": "markdown",
      "metadata": {
        "id": "ttiOBuzJgAbY",
        "colab_type": "text"
      },
      "source": [
        "Особой разницы в обучении и результатах не видно. Хотя, в теории, должно обучаться быстрее\n",
        "  \n",
        "Теперь попробуем с 2 классами"
      ]
    },
    {
      "cell_type": "code",
      "metadata": {
        "id": "HiJPIL1wf8k8",
        "colab_type": "code",
        "colab": {}
      },
      "source": [
        "num_classes = 2\n",
        "y_train = keras.utils.to_categorical(df_train[\"target\"], num_classes)\n",
        "y_val = keras.utils.to_categorical(df_val[\"target\"], num_classes)"
      ],
      "execution_count": 129,
      "outputs": []
    },
    {
      "cell_type": "code",
      "metadata": {
        "id": "VRkyCSqrgPc0",
        "colab_type": "code",
        "colab": {}
      },
      "source": [
        "model = Sequential()\n",
        "model.add(Embedding(input_dim=max_words, output_dim=128, input_length=max_len, weights=[embeddings]))\n",
        "model.add(Conv1D(128, 3))\n",
        "model.add(Activation(\"relu\"))\n",
        "model.add(GlobalMaxPool1D())\n",
        "model.add(Dense(10))\n",
        "model.add(Activation(\"relu\"))\n",
        "model.add(Dense(num_classes))\n",
        "model.add(Activation('softmax'))"
      ],
      "execution_count": 131,
      "outputs": []
    },
    {
      "cell_type": "code",
      "metadata": {
        "id": "R-xaPjQ2gUuy",
        "colab_type": "code",
        "colab": {}
      },
      "source": [
        "model.compile(loss='categorical_crossentropy',\n",
        "              optimizer='adam',\n",
        "              metrics=['accuracy'])"
      ],
      "execution_count": 132,
      "outputs": []
    },
    {
      "cell_type": "code",
      "metadata": {
        "id": "jR-3iomFgXH7",
        "colab_type": "code",
        "colab": {
          "base_uri": "https://localhost:8080/",
          "height": 241
        },
        "outputId": "f3ce7b73-b391-4368-82bd-c57780885075"
      },
      "source": [
        "history = model.fit(X_train, y_train,\n",
        "                    batch_size=batch_size,\n",
        "                    epochs=epochs,\n",
        "                    verbose=1,\n",
        "                    validation_split=0.1,\n",
        "                    callbacks=[early_stopping])"
      ],
      "execution_count": 133,
      "outputs": [
        {
          "output_type": "stream",
          "text": [
            "Epoch 1/100\n",
            "29/29 [==============================] - 1s 19ms/step - loss: 0.3894 - accuracy: 0.8516 - val_loss: 0.2503 - val_accuracy: 0.8871\n",
            "Epoch 2/100\n",
            "29/29 [==============================] - 0s 13ms/step - loss: 0.2430 - accuracy: 0.8941 - val_loss: 0.2284 - val_accuracy: 0.9015\n",
            "Epoch 3/100\n",
            "29/29 [==============================] - 0s 13ms/step - loss: 0.2240 - accuracy: 0.9009 - val_loss: 0.2212 - val_accuracy: 0.9009\n",
            "Epoch 4/100\n",
            "29/29 [==============================] - 0s 12ms/step - loss: 0.2118 - accuracy: 0.9067 - val_loss: 0.2210 - val_accuracy: 0.8990\n",
            "Epoch 5/100\n",
            "29/29 [==============================] - 0s 12ms/step - loss: 0.2048 - accuracy: 0.9108 - val_loss: 0.2169 - val_accuracy: 0.9034\n",
            "Epoch 6/100\n",
            "29/29 [==============================] - 0s 12ms/step - loss: 0.1924 - accuracy: 0.9171 - val_loss: 0.2204 - val_accuracy: 0.9009\n"
          ],
          "name": "stdout"
        }
      ]
    },
    {
      "cell_type": "code",
      "metadata": {
        "id": "8vJceyaTgaR8",
        "colab_type": "code",
        "colab": {
          "base_uri": "https://localhost:8080/",
          "height": 68
        },
        "outputId": "cbe8b54d-d9cb-4866-f32c-a52a378f9a65"
      },
      "source": [
        "score = model.evaluate(X_val, y_val, batch_size=batch_size, verbose=1)\n",
        "print('Test score:', score[0])\n",
        "print('Test accuracy:', score[1])"
      ],
      "execution_count": 134,
      "outputs": [
        {
          "output_type": "stream",
          "text": [
            "8/8 [==============================] - 0s 5ms/step - loss: 0.2279 - accuracy: 0.8976\n",
            "Test score: 0.22793227434158325\n",
            "Test accuracy: 0.8976160883903503\n"
          ],
          "name": "stdout"
        }
      ]
    },
    {
      "cell_type": "markdown",
      "metadata": {
        "id": "XErqq667ht1k",
        "colab_type": "text"
      },
      "source": [
        "Опять же нет разницы"
      ]
    },
    {
      "cell_type": "code",
      "metadata": {
        "id": "LWPzrkuqgeB0",
        "colab_type": "code",
        "colab": {}
      },
      "source": [
        ""
      ],
      "execution_count": null,
      "outputs": []
    }
  ]
}