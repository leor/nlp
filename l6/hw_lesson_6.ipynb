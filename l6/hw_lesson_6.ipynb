{
  "nbformat": 4,
  "nbformat_minor": 0,
  "metadata": {
    "colab": {
      "name": "hw_lesson_6.ipynb",
      "provenance": [],
      "collapsed_sections": []
    },
    "kernelspec": {
      "name": "python3",
      "display_name": "Python 3"
    },
    "accelerator": "GPU"
  },
  "cells": [
    {
      "cell_type": "code",
      "metadata": {
        "id": "yPBTTQsPf7wI",
        "colab_type": "code",
        "colab": {
          "base_uri": "https://localhost:8080/",
          "height": 224
        },
        "outputId": "b12668ad-71c0-4233-d7ed-b68f5a952053"
      },
      "source": [
        "pip install pymorphy2"
      ],
      "execution_count": 1,
      "outputs": [
        {
          "output_type": "stream",
          "text": [
            "Collecting pymorphy2\n",
            "\u001b[?25l  Downloading https://files.pythonhosted.org/packages/a3/33/fff9675c68b5f6c63ec8c6e6ff57827dda28a1fa5b2c2d727dffff92dd47/pymorphy2-0.8-py2.py3-none-any.whl (46kB)\n",
            "\r\u001b[K     |███████                         | 10kB 26.9MB/s eta 0:00:01\r\u001b[K     |██████████████▏                 | 20kB 3.4MB/s eta 0:00:01\r\u001b[K     |█████████████████████▎          | 30kB 4.6MB/s eta 0:00:01\r\u001b[K     |████████████████████████████▍   | 40kB 4.9MB/s eta 0:00:01\r\u001b[K     |████████████████████████████████| 51kB 3.0MB/s \n",
            "\u001b[?25hCollecting dawg-python>=0.7\n",
            "  Downloading https://files.pythonhosted.org/packages/6a/84/ff1ce2071d4c650ec85745766c0047ccc3b5036f1d03559fd46bb38b5eeb/DAWG_Python-0.7.2-py2.py3-none-any.whl\n",
            "Collecting pymorphy2-dicts<3.0,>=2.4\n",
            "\u001b[?25l  Downloading https://files.pythonhosted.org/packages/02/51/2465fd4f72328ab50877b54777764d928da8cb15b74e2680fc1bd8cb3173/pymorphy2_dicts-2.4.393442.3710985-py2.py3-none-any.whl (7.1MB)\n",
            "\u001b[K     |████████████████████████████████| 7.1MB 10.3MB/s \n",
            "\u001b[?25hRequirement already satisfied: docopt>=0.6 in /usr/local/lib/python3.6/dist-packages (from pymorphy2) (0.6.2)\n",
            "Installing collected packages: dawg-python, pymorphy2-dicts, pymorphy2\n",
            "Successfully installed dawg-python-0.7.2 pymorphy2-0.8 pymorphy2-dicts-2.4.393442.3710985\n"
          ],
          "name": "stdout"
        }
      ]
    },
    {
      "cell_type": "code",
      "metadata": {
        "id": "D-Wv9MbTgIE4",
        "colab_type": "code",
        "colab": {
          "base_uri": "https://localhost:8080/",
          "height": 190
        },
        "outputId": "f71c30bd-c9d2-4b09-8faa-f363952681e6"
      },
      "source": [
        "pip install stop_words"
      ],
      "execution_count": 2,
      "outputs": [
        {
          "output_type": "stream",
          "text": [
            "Collecting stop_words\n",
            "  Downloading https://files.pythonhosted.org/packages/1c/cb/d58290804b7a4c5daa42abbbe2a93c477ae53e45541b1825e86f0dfaaf63/stop-words-2018.7.23.tar.gz\n",
            "Building wheels for collected packages: stop-words\n",
            "  Building wheel for stop-words (setup.py) ... \u001b[?25l\u001b[?25hdone\n",
            "  Created wheel for stop-words: filename=stop_words-2018.7.23-cp36-none-any.whl size=32917 sha256=122caa22a32202c94e7d4ce7b9407f1fd0b3abc6f5699ca7dc22f3a0d4de811b\n",
            "  Stored in directory: /root/.cache/pip/wheels/75/37/6a/2b295e03bd07290f0da95c3adb9a74ba95fbc333aa8b0c7c78\n",
            "Successfully built stop-words\n",
            "Installing collected packages: stop-words\n",
            "Successfully installed stop-words-2018.7.23\n"
          ],
          "name": "stdout"
        }
      ]
    },
    {
      "cell_type": "code",
      "metadata": {
        "id": "X3RW4_XigJ3l",
        "colab_type": "code",
        "colab": {}
      },
      "source": [
        "import pandas as pd\n",
        "import numpy as np\n",
        "\n",
        "from string import punctuation\n",
        "from pymorphy2 import MorphAnalyzer\n",
        "from stop_words import get_stop_words\n",
        "import re\n",
        "import nltk\n",
        "\n",
        "from sklearn.model_selection import train_test_split\n",
        "\n",
        "import keras\n",
        "from keras.models import Sequential\n",
        "from keras.layers import Embedding, SimpleRNN, Dense, LSTM, GRU, Activation, Dropout, Masking\n",
        "from keras.preprocessing.text import Tokenizer\n",
        "from keras.preprocessing.sequence import pad_sequences\n",
        "from keras.callbacks import EarlyStopping"
      ],
      "execution_count": 29,
      "outputs": []
    },
    {
      "cell_type": "code",
      "metadata": {
        "id": "bS_VdJ9AgRrS",
        "colab_type": "code",
        "colab": {
          "base_uri": "https://localhost:8080/",
          "height": 204
        },
        "outputId": "5609f4a6-45cf-4517-f6ec-28a41e4757a3"
      },
      "source": [
        "df = pd.read_excel('/content/отзывы за лето.xls')\n",
        "\n",
        "df.head()"
      ],
      "execution_count": 7,
      "outputs": [
        {
          "output_type": "execute_result",
          "data": {
            "text/html": [
              "<div>\n",
              "<style scoped>\n",
              "    .dataframe tbody tr th:only-of-type {\n",
              "        vertical-align: middle;\n",
              "    }\n",
              "\n",
              "    .dataframe tbody tr th {\n",
              "        vertical-align: top;\n",
              "    }\n",
              "\n",
              "    .dataframe thead th {\n",
              "        text-align: right;\n",
              "    }\n",
              "</style>\n",
              "<table border=\"1\" class=\"dataframe\">\n",
              "  <thead>\n",
              "    <tr style=\"text-align: right;\">\n",
              "      <th></th>\n",
              "      <th>Rating</th>\n",
              "      <th>Content</th>\n",
              "      <th>Date</th>\n",
              "    </tr>\n",
              "  </thead>\n",
              "  <tbody>\n",
              "    <tr>\n",
              "      <th>0</th>\n",
              "      <td>5</td>\n",
              "      <td>It just works!</td>\n",
              "      <td>2017-08-14</td>\n",
              "    </tr>\n",
              "    <tr>\n",
              "      <th>1</th>\n",
              "      <td>4</td>\n",
              "      <td>В целом удобноное приложение...из минусов хотя...</td>\n",
              "      <td>2017-08-14</td>\n",
              "    </tr>\n",
              "    <tr>\n",
              "      <th>2</th>\n",
              "      <td>5</td>\n",
              "      <td>Отлично все</td>\n",
              "      <td>2017-08-14</td>\n",
              "    </tr>\n",
              "    <tr>\n",
              "      <th>3</th>\n",
              "      <td>5</td>\n",
              "      <td>Стал зависать на 1% работы антивируса. Дальше ...</td>\n",
              "      <td>2017-08-14</td>\n",
              "    </tr>\n",
              "    <tr>\n",
              "      <th>4</th>\n",
              "      <td>5</td>\n",
              "      <td>Очень удобно, работает быстро.</td>\n",
              "      <td>2017-08-14</td>\n",
              "    </tr>\n",
              "  </tbody>\n",
              "</table>\n",
              "</div>"
            ],
            "text/plain": [
              "   Rating                                            Content        Date\n",
              "0       5                                     It just works!  2017-08-14\n",
              "1       4  В целом удобноное приложение...из минусов хотя...  2017-08-14\n",
              "2       5                                        Отлично все  2017-08-14\n",
              "3       5  Стал зависать на 1% работы антивируса. Дальше ...  2017-08-14\n",
              "4       5                     Очень удобно, работает быстро.  2017-08-14"
            ]
          },
          "metadata": {
            "tags": []
          },
          "execution_count": 7
        }
      ]
    },
    {
      "cell_type": "code",
      "metadata": {
        "id": "JSo5LJ7egYbI",
        "colab_type": "code",
        "colab": {}
      },
      "source": [
        "punct = set(punctuation)\n",
        "stop_words_set = set(get_stop_words('ru') + get_stop_words('en'))\n",
        "ma = MorphAnalyzer()\n",
        "\n",
        "def preprocess(txt):\n",
        "  r = str(txt).lower()\n",
        "  r = ''.join(t for t in r if t not in punct)\n",
        "  \n",
        "  r = re.sub(r'[^a-zA-Zа-яА-ЯёЁ0-9]+', ' ', r)\n",
        "\n",
        "  r = \" \".join([ma.parse(word)[0].normal_form for word in r.split() if word not in stop_words_set])\n",
        "  \n",
        "  r = re.sub(r'не', 'не\\s', r)\n",
        "  r = re.sub(r'\\snot', 'not', r)\n",
        "\n",
        "  r = r.strip()\n",
        "\n",
        "  return r"
      ],
      "execution_count": 58,
      "outputs": []
    },
    {
      "cell_type": "code",
      "metadata": {
        "id": "gn-A39sch8N7",
        "colab_type": "code",
        "colab": {}
      },
      "source": [
        "df['clear_content'] = df['Content'].apply(preprocess)\n",
        "df.drop(df[df['clear_content'] == ''].index, inplace=True)\n",
        "\n",
        "df['target'] = df['Rating'] > 3\n",
        "df['target'] = df['target'].astype('int')"
      ],
      "execution_count": 59,
      "outputs": []
    },
    {
      "cell_type": "code",
      "metadata": {
        "id": "mqakLsp9iDMk",
        "colab_type": "code",
        "colab": {
          "base_uri": "https://localhost:8080/",
          "height": 204
        },
        "outputId": "b610ea2f-e53d-43ad-ac81-39aef439f81d"
      },
      "source": [
        "df.head()"
      ],
      "execution_count": 60,
      "outputs": [
        {
          "output_type": "execute_result",
          "data": {
            "text/html": [
              "<div>\n",
              "<style scoped>\n",
              "    .dataframe tbody tr th:only-of-type {\n",
              "        vertical-align: middle;\n",
              "    }\n",
              "\n",
              "    .dataframe tbody tr th {\n",
              "        vertical-align: top;\n",
              "    }\n",
              "\n",
              "    .dataframe thead th {\n",
              "        text-align: right;\n",
              "    }\n",
              "</style>\n",
              "<table border=\"1\" class=\"dataframe\">\n",
              "  <thead>\n",
              "    <tr style=\"text-align: right;\">\n",
              "      <th></th>\n",
              "      <th>Rating</th>\n",
              "      <th>Content</th>\n",
              "      <th>Date</th>\n",
              "      <th>clear_content</th>\n",
              "      <th>target</th>\n",
              "    </tr>\n",
              "  </thead>\n",
              "  <tbody>\n",
              "    <tr>\n",
              "      <th>0</th>\n",
              "      <td>4</td>\n",
              "      <td>It just works!</td>\n",
              "      <td>2017-08-14</td>\n",
              "      <td>just works</td>\n",
              "      <td>1</td>\n",
              "    </tr>\n",
              "    <tr>\n",
              "      <th>1</th>\n",
              "      <td>3</td>\n",
              "      <td>В целом удобноное приложение...из минусов хотя...</td>\n",
              "      <td>2017-08-14</td>\n",
              "      <td>целое удобноной приложениеиз минус хотеть боль...</td>\n",
              "      <td>0</td>\n",
              "    </tr>\n",
              "    <tr>\n",
              "      <th>2</th>\n",
              "      <td>4</td>\n",
              "      <td>Отлично все</td>\n",
              "      <td>2017-08-14</td>\n",
              "      <td>отлично</td>\n",
              "      <td>1</td>\n",
              "    </tr>\n",
              "    <tr>\n",
              "      <th>3</th>\n",
              "      <td>4</td>\n",
              "      <td>Стал зависать на 1% работы антивируса. Дальше ...</td>\n",
              "      <td>2017-08-14</td>\n",
              "      <td>зависать 1 работа антивирус ране\\sе пользовать...</td>\n",
              "      <td>1</td>\n",
              "    </tr>\n",
              "    <tr>\n",
              "      <th>4</th>\n",
              "      <td>4</td>\n",
              "      <td>Очень удобно, работает быстро.</td>\n",
              "      <td>2017-08-14</td>\n",
              "      <td>удобно работать быстро</td>\n",
              "      <td>1</td>\n",
              "    </tr>\n",
              "  </tbody>\n",
              "</table>\n",
              "</div>"
            ],
            "text/plain": [
              "   Rating  ... target\n",
              "0       4  ...      1\n",
              "1       3  ...      0\n",
              "2       4  ...      1\n",
              "3       4  ...      1\n",
              "4       4  ...      1\n",
              "\n",
              "[5 rows x 5 columns]"
            ]
          },
          "metadata": {
            "tags": []
          },
          "execution_count": 60
        }
      ]
    },
    {
      "cell_type": "code",
      "metadata": {
        "id": "D0uFn1bUiELb",
        "colab_type": "code",
        "colab": {}
      },
      "source": [
        "df_train, df_val = train_test_split(df, train_size=0.7)"
      ],
      "execution_count": 61,
      "outputs": []
    },
    {
      "cell_type": "code",
      "metadata": {
        "id": "qemYwH9Uio4g",
        "colab_type": "code",
        "colab": {}
      },
      "source": [
        "corpus_train = df_train['clear_content'].values\n",
        "corpus_valid = df_val['clear_content'].values"
      ],
      "execution_count": 62,
      "outputs": []
    },
    {
      "cell_type": "code",
      "metadata": {
        "id": "GWr91Y_3jSXx",
        "colab_type": "code",
        "colab": {}
      },
      "source": [
        "tokenizer = Tokenizer(num_words=None, \n",
        "                     filters='#$%&()*+-<=>@[\\\\]^_`{|}~\\t\\n',\n",
        "                     lower = False, split = ' ')\n",
        "tokenizer.fit_on_texts(corpus_train)"
      ],
      "execution_count": 63,
      "outputs": []
    },
    {
      "cell_type": "code",
      "metadata": {
        "id": "Hd4WnOxxkfKj",
        "colab_type": "code",
        "colab": {}
      },
      "source": [
        "sequences_train = tokenizer.texts_to_sequences(corpus_train)\n",
        "sequences_val = tokenizer.texts_to_sequences(corpus_valid)\n",
        "\n",
        "word_count = len(tokenizer.index_word) + 1\n",
        "training_length = max([len(i.split()) for i in corpus_train])\n",
        "\n",
        "X_train = pad_sequences(sequences_train, maxlen=training_length)\n",
        "X_valid = pad_sequences(sequences_val, maxlen=training_length)"
      ],
      "execution_count": 64,
      "outputs": []
    },
    {
      "cell_type": "code",
      "metadata": {
        "id": "IW8ssZBpknpk",
        "colab_type": "code",
        "colab": {}
      },
      "source": [
        "y_train = df_train['target']\n",
        "y_valid = df_val['target']"
      ],
      "execution_count": 65,
      "outputs": []
    },
    {
      "cell_type": "code",
      "metadata": {
        "id": "QQRm8RZXpWX1",
        "colab_type": "code",
        "colab": {}
      },
      "source": [
        "batch_size = 512\n",
        "epochs = 50"
      ],
      "execution_count": 66,
      "outputs": []
    },
    {
      "cell_type": "markdown",
      "metadata": {
        "id": "w2I-QnxXpnzf",
        "colab_type": "text"
      },
      "source": [
        "## Испытываем SimpleRNN"
      ]
    },
    {
      "cell_type": "code",
      "metadata": {
        "id": "PN0gSQ1gkt5T",
        "colab_type": "code",
        "colab": {}
      },
      "source": [
        "model = Sequential()\n",
        "\n",
        "model.add(Embedding(input_dim=word_count, input_length=training_length, output_dim=30, trainable=True, mask_zero=True))\n",
        "model.add(Masking(mask_value=0.0))\n",
        "\n",
        "model.add(SimpleRNN(64))\n",
        "model.add(Dense(64, activation='relu'))\n",
        "model.add(Dropout(0.5))\n",
        "model.add(Dense(1, activation='sigmoid'))\n",
        "\n",
        "model.compile(optimizer='adam', loss='binary_crossentropy', metrics=['accuracy'])"
      ],
      "execution_count": 67,
      "outputs": []
    },
    {
      "cell_type": "code",
      "metadata": {
        "id": "R-ZEZnSGlvs5",
        "colab_type": "code",
        "colab": {
          "base_uri": "https://localhost:8080/",
          "height": 241
        },
        "outputId": "c5163cad-0401-4aba-f014-6ed04b445904"
      },
      "source": [
        "early_stopping=EarlyStopping(monitor='val_loss')  \n",
        "\n",
        "history = model.fit(\n",
        "    X_train, \n",
        "    y_train,\n",
        "    batch_size=batch_size,\n",
        "    epochs=epochs,\n",
        "    verbose=1,\n",
        "    validation_split=0.1,\n",
        "    callbacks=[early_stopping]\n",
        ")"
      ],
      "execution_count": 68,
      "outputs": [
        {
          "output_type": "stream",
          "text": [
            "Epoch 1/50\n",
            "25/25 [==============================] - 4s 144ms/step - loss: 0.5914 - accuracy: 0.6924 - val_loss: 0.4931 - val_accuracy: 0.7769\n",
            "Epoch 2/50\n",
            "25/25 [==============================] - 3s 139ms/step - loss: 0.4585 - accuracy: 0.8040 - val_loss: 0.4122 - val_accuracy: 0.8307\n",
            "Epoch 3/50\n",
            "25/25 [==============================] - 3s 134ms/step - loss: 0.3790 - accuracy: 0.8548 - val_loss: 0.3716 - val_accuracy: 0.8486\n",
            "Epoch 4/50\n",
            "25/25 [==============================] - 3s 136ms/step - loss: 0.3150 - accuracy: 0.8851 - val_loss: 0.3570 - val_accuracy: 0.8565\n",
            "Epoch 5/50\n",
            "25/25 [==============================] - 4s 143ms/step - loss: 0.2766 - accuracy: 0.9061 - val_loss: 0.3529 - val_accuracy: 0.8694\n",
            "Epoch 6/50\n",
            "25/25 [==============================] - 4s 142ms/step - loss: 0.2381 - accuracy: 0.9219 - val_loss: 0.3638 - val_accuracy: 0.8601\n"
          ],
          "name": "stdout"
        }
      ]
    },
    {
      "cell_type": "code",
      "metadata": {
        "id": "JAiJ6mozl-wF",
        "colab_type": "code",
        "colab": {
          "base_uri": "https://localhost:8080/",
          "height": 68
        },
        "outputId": "56feee69-901a-4a66-e475-429c13ee9ce1"
      },
      "source": [
        "score = model.evaluate(X_valid, y_valid, batch_size=batch_size, verbose=1)\n",
        "print('Test score:', score[0])\n",
        "print('Test accuracy:', score[1])"
      ],
      "execution_count": 69,
      "outputs": [
        {
          "output_type": "stream",
          "text": [
            "12/12 [==============================] - 0s 12ms/step - loss: 0.3391 - accuracy: 0.8700\n",
            "Test score: 0.3390660285949707\n",
            "Test accuracy: 0.8699581623077393\n"
          ],
          "name": "stdout"
        }
      ]
    },
    {
      "cell_type": "markdown",
      "metadata": {
        "id": "20QPrfNIprbk",
        "colab_type": "text"
      },
      "source": [
        "Неплохо (в моём случае, даже лучше CNN)"
      ]
    },
    {
      "cell_type": "markdown",
      "metadata": {
        "id": "L6DBooCKpwCr",
        "colab_type": "text"
      },
      "source": [
        "## Пробуем LSTM"
      ]
    },
    {
      "cell_type": "code",
      "metadata": {
        "id": "UtdkI9KlplZp",
        "colab_type": "code",
        "colab": {
          "base_uri": "https://localhost:8080/",
          "height": 54
        },
        "outputId": "ebba421e-96a6-4a91-e68c-19eeca29d38b"
      },
      "source": [
        "model = Sequential()\n",
        "\n",
        "model.add(Embedding(input_dim=word_count, input_length=training_length, output_dim=30, trainable=True, mask_zero=True))\n",
        "model.add(Masking(mask_value=0.0))\n",
        "\n",
        "model.add(LSTM(64, recurrent_dropout=0.2))\n",
        "model.add(Dense(64, activation='relu'))\n",
        "model.add(Dropout(0.5))\n",
        "model.add(Dense(1, activation='sigmoid'))\n",
        "\n",
        "model.compile(optimizer='adam', loss='binary_crossentropy', metrics=['accuracy'])"
      ],
      "execution_count": 70,
      "outputs": [
        {
          "output_type": "stream",
          "text": [
            "WARNING:tensorflow:Layer lstm_1 will not use cuDNN kernel since it doesn't meet the cuDNN kernel criteria. It will use generic GPU kernel as fallback when running on GPU\n"
          ],
          "name": "stdout"
        }
      ]
    },
    {
      "cell_type": "code",
      "metadata": {
        "id": "miyjRB_yp5yB",
        "colab_type": "code",
        "colab": {
          "base_uri": "https://localhost:8080/",
          "height": 241
        },
        "outputId": "931727e6-492d-44a4-bfee-098b948ad561"
      },
      "source": [
        "early_stopping=EarlyStopping(monitor='val_loss')  \n",
        "\n",
        "history = model.fit(\n",
        "    X_train, \n",
        "    y_train,\n",
        "    batch_size=batch_size,\n",
        "    epochs=epochs,\n",
        "    verbose=1,\n",
        "    validation_split=0.1,\n",
        "    callbacks=[early_stopping]\n",
        ")"
      ],
      "execution_count": 71,
      "outputs": [
        {
          "output_type": "stream",
          "text": [
            "Epoch 1/50\n",
            "25/25 [==============================] - 10s 419ms/step - loss: 0.6215 - accuracy: 0.6824 - val_loss: 0.5363 - val_accuracy: 0.6987\n",
            "Epoch 2/50\n",
            "25/25 [==============================] - 10s 397ms/step - loss: 0.4844 - accuracy: 0.7808 - val_loss: 0.4229 - val_accuracy: 0.8286\n",
            "Epoch 3/50\n",
            "25/25 [==============================] - 10s 402ms/step - loss: 0.3992 - accuracy: 0.8427 - val_loss: 0.3752 - val_accuracy: 0.8515\n",
            "Epoch 4/50\n",
            "25/25 [==============================] - 10s 399ms/step - loss: 0.3422 - accuracy: 0.8733 - val_loss: 0.3536 - val_accuracy: 0.8565\n",
            "Epoch 5/50\n",
            "25/25 [==============================] - 10s 397ms/step - loss: 0.3040 - accuracy: 0.8928 - val_loss: 0.3458 - val_accuracy: 0.8651\n",
            "Epoch 6/50\n",
            "25/25 [==============================] - 10s 393ms/step - loss: 0.2738 - accuracy: 0.9078 - val_loss: 0.3492 - val_accuracy: 0.8752\n"
          ],
          "name": "stdout"
        }
      ]
    },
    {
      "cell_type": "code",
      "metadata": {
        "id": "UDNXkx6Qp5u0",
        "colab_type": "code",
        "colab": {
          "base_uri": "https://localhost:8080/",
          "height": 68
        },
        "outputId": "6b4f1231-219f-4363-8ca2-ae7363785098"
      },
      "source": [
        "score = model.evaluate(X_valid, y_valid, batch_size=batch_size, verbose=1)\n",
        "print('Test score:', score[0])\n",
        "print('Test accuracy:', score[1])"
      ],
      "execution_count": 72,
      "outputs": [
        {
          "output_type": "stream",
          "text": [
            "12/12 [==============================] - 0s 32ms/step - loss: 0.3283 - accuracy: 0.8795\n",
            "Test score: 0.3283085525035858\n",
            "Test accuracy: 0.8794978857040405\n"
          ],
          "name": "stdout"
        }
      ]
    },
    {
      "cell_type": "markdown",
      "metadata": {
        "id": "A_xzsh3cqBss",
        "colab_type": "text"
      },
      "source": [
        "Обучается медленнее, нежели SimpleRNN. Качество немного выше"
      ]
    },
    {
      "cell_type": "markdown",
      "metadata": {
        "id": "Rngm_S8tqhew",
        "colab_type": "text"
      },
      "source": [
        "## Пробуем GRU"
      ]
    },
    {
      "cell_type": "code",
      "metadata": {
        "id": "5iEASYukp7zb",
        "colab_type": "code",
        "colab": {
          "base_uri": "https://localhost:8080/",
          "height": 54
        },
        "outputId": "73a73ed8-9e98-4d04-dca1-3c7315f4fb80"
      },
      "source": [
        "model = Sequential()\n",
        "\n",
        "model.add(Embedding(input_dim=word_count, input_length=training_length, output_dim=30, trainable=True, mask_zero=True))\n",
        "model.add(Masking(mask_value=0.0))\n",
        "\n",
        "model.add(GRU(64, recurrent_dropout=0.2))\n",
        "model.add(Dense(64, activation='relu'))\n",
        "model.add(Dropout(0.5))\n",
        "model.add(Dense(1, activation='sigmoid'))\n",
        "\n",
        "model.compile(optimizer='adam', loss='binary_crossentropy', metrics=['accuracy'])"
      ],
      "execution_count": 76,
      "outputs": [
        {
          "output_type": "stream",
          "text": [
            "WARNING:tensorflow:Layer gru_2 will not use cuDNN kernel since it doesn't meet the cuDNN kernel criteria. It will use generic GPU kernel as fallback when running on GPU\n"
          ],
          "name": "stdout"
        }
      ]
    },
    {
      "cell_type": "code",
      "metadata": {
        "id": "BBPUWr3Vqnns",
        "colab_type": "code",
        "colab": {
          "base_uri": "https://localhost:8080/",
          "height": 241
        },
        "outputId": "64f81ee4-f10b-4cee-fe2a-6381c1eb9cab"
      },
      "source": [
        "early_stopping=EarlyStopping(monitor='val_loss')  \n",
        "\n",
        "history = model.fit(\n",
        "    X_train, \n",
        "    y_train,\n",
        "    batch_size=batch_size,\n",
        "    epochs=epochs,\n",
        "    verbose=1,\n",
        "    validation_split=0.1,\n",
        "    callbacks=[early_stopping]\n",
        ")"
      ],
      "execution_count": 74,
      "outputs": [
        {
          "output_type": "stream",
          "text": [
            "Epoch 1/50\n",
            "25/25 [==============================] - 9s 357ms/step - loss: 0.6389 - accuracy: 0.6745 - val_loss: 0.5517 - val_accuracy: 0.6987\n",
            "Epoch 2/50\n",
            "25/25 [==============================] - 9s 347ms/step - loss: 0.4965 - accuracy: 0.7406 - val_loss: 0.4202 - val_accuracy: 0.8422\n",
            "Epoch 3/50\n",
            "25/25 [==============================] - 8s 339ms/step - loss: 0.3825 - accuracy: 0.8522 - val_loss: 0.3754 - val_accuracy: 0.8508\n",
            "Epoch 4/50\n",
            "25/25 [==============================] - 9s 346ms/step - loss: 0.3225 - accuracy: 0.8827 - val_loss: 0.3601 - val_accuracy: 0.8580\n",
            "Epoch 5/50\n",
            "25/25 [==============================] - 8s 339ms/step - loss: 0.2783 - accuracy: 0.9043 - val_loss: 0.3581 - val_accuracy: 0.8666\n",
            "Epoch 6/50\n",
            "25/25 [==============================] - 8s 337ms/step - loss: 0.2459 - accuracy: 0.9174 - val_loss: 0.3706 - val_accuracy: 0.8651\n"
          ],
          "name": "stdout"
        }
      ]
    },
    {
      "cell_type": "code",
      "metadata": {
        "id": "rNJpOsO-qnOj",
        "colab_type": "code",
        "colab": {
          "base_uri": "https://localhost:8080/",
          "height": 68
        },
        "outputId": "ad7c0d22-c7cb-40a3-a4ee-47fac4f7ebab"
      },
      "source": [
        "score = model.evaluate(X_valid, y_valid, batch_size=batch_size, verbose=1)\n",
        "print('Test score:', score[0])\n",
        "print('Test accuracy:', score[1])"
      ],
      "execution_count": 75,
      "outputs": [
        {
          "output_type": "stream",
          "text": [
            "12/12 [==============================] - 0s 30ms/step - loss: 0.3472 - accuracy: 0.8716\n",
            "Test score: 0.34715941548347473\n",
            "Test accuracy: 0.8716318011283875\n"
          ],
          "name": "stdout"
        }
      ]
    },
    {
      "cell_type": "markdown",
      "metadata": {
        "id": "aozMWCh-qwA_",
        "colab_type": "text"
      },
      "source": [
        "Обучается чуть быстрее LSTM. Качество примерно то же, что у LSTM"
      ]
    },
    {
      "cell_type": "code",
      "metadata": {
        "id": "9igb2tKSrxW6",
        "colab_type": "code",
        "colab": {}
      },
      "source": [
        ""
      ],
      "execution_count": null,
      "outputs": []
    }
  ]
}