{
  "nbformat": 4,
  "nbformat_minor": 0,
  "metadata": {
    "colab": {
      "name": "hw_lesson3.ipynb",
      "provenance": [],
      "collapsed_sections": []
    },
    "kernelspec": {
      "name": "python3",
      "display_name": "Python 3"
    }
  },
  "cells": [
    {
      "cell_type": "code",
      "metadata": {
        "id": "qlrtM4Frs9aQ",
        "colab_type": "code",
        "colab": {}
      },
      "source": [
        "import pandas as pd\n",
        "import numpy as np\n",
        "\n",
        "import spacy\n",
        "\n",
        "from collections import Counter"
      ],
      "execution_count": 27,
      "outputs": []
    },
    {
      "cell_type": "code",
      "metadata": {
        "id": "RsFSpn40tHBP",
        "colab_type": "code",
        "colab": {}
      },
      "source": [
        "df = pd.read_pickle(\"/content/result.pkl\")"
      ],
      "execution_count": 5,
      "outputs": []
    },
    {
      "cell_type": "code",
      "metadata": {
        "id": "IUKeLClCuVeT",
        "colab_type": "code",
        "colab": {
          "base_uri": "https://localhost:8080/",
          "height": 340
        },
        "outputId": "4e7bf33a-c860-4005-807c-22b34257e6c4"
      },
      "source": [
        "df.head()"
      ],
      "execution_count": 6,
      "outputs": [
        {
          "output_type": "execute_result",
          "data": {
            "text/html": [
              "<div>\n",
              "<style scoped>\n",
              "    .dataframe tbody tr th:only-of-type {\n",
              "        vertical-align: middle;\n",
              "    }\n",
              "\n",
              "    .dataframe tbody tr th {\n",
              "        vertical-align: top;\n",
              "    }\n",
              "\n",
              "    .dataframe thead th {\n",
              "        text-align: right;\n",
              "    }\n",
              "</style>\n",
              "<table border=\"1\" class=\"dataframe\">\n",
              "  <thead>\n",
              "    <tr style=\"text-align: right;\">\n",
              "      <th></th>\n",
              "      <th>id</th>\n",
              "      <th>label</th>\n",
              "      <th>tweet</th>\n",
              "      <th>clean_tweet</th>\n",
              "      <th>tweet_token</th>\n",
              "      <th>tweet_token_filtered</th>\n",
              "      <th>tweet_stemmed</th>\n",
              "      <th>tweet_lemmatized</th>\n",
              "    </tr>\n",
              "  </thead>\n",
              "  <tbody>\n",
              "    <tr>\n",
              "      <th>0</th>\n",
              "      <td>1</td>\n",
              "      <td>0.0</td>\n",
              "      <td>@user when a father is dysfunctional and is s...</td>\n",
              "      <td>when a father is dysfunctional and is so selfi...</td>\n",
              "      <td>[when, a, father, is, dysfunctional, and, is, ...</td>\n",
              "      <td>[father, dysfunctional, selfish, drags, kids, ...</td>\n",
              "      <td>[father, dysfunct, selfish, drag, kid, dysfunc...</td>\n",
              "      <td>[father, dysfunctional, selfish, drag, kid, dy...</td>\n",
              "    </tr>\n",
              "    <tr>\n",
              "      <th>1</th>\n",
              "      <td>2</td>\n",
              "      <td>0.0</td>\n",
              "      <td>@user @user thanks for #lyft credit i can't us...</td>\n",
              "      <td>thanks for lyft credit i cannot use cause they...</td>\n",
              "      <td>[thanks, for, lyft, credit, i, can, not, use, ...</td>\n",
              "      <td>[thanks, lyft, credit, use, cause, offer, whee...</td>\n",
              "      <td>[thank, lyft, credit, use, caus, offer, wheelc...</td>\n",
              "      <td>[thanks, lyft, credit, use, cause, offer, whee...</td>\n",
              "    </tr>\n",
              "    <tr>\n",
              "      <th>2</th>\n",
              "      <td>3</td>\n",
              "      <td>0.0</td>\n",
              "      <td>bihday your majesty</td>\n",
              "      <td>bihday your majesty</td>\n",
              "      <td>[bihday, your, majesty]</td>\n",
              "      <td>[bihday, majesty]</td>\n",
              "      <td>[bihday, majesti]</td>\n",
              "      <td>[bihday, majesty]</td>\n",
              "    </tr>\n",
              "    <tr>\n",
              "      <th>3</th>\n",
              "      <td>4</td>\n",
              "      <td>0.0</td>\n",
              "      <td>#model   i love u take with u all the time in ...</td>\n",
              "      <td>model i love yoyou take with yoyou all the tim...</td>\n",
              "      <td>[model, i, love, yoyou, take, with, yoyou, all...</td>\n",
              "      <td>[model, love, yoyou, take, yoyou, time, yoyour]</td>\n",
              "      <td>[model, love, yoyou, take, yoyou, time, yoyour]</td>\n",
              "      <td>[model, love, yoyou, take, yoyou, time, yoyour]</td>\n",
              "    </tr>\n",
              "    <tr>\n",
              "      <th>4</th>\n",
              "      <td>5</td>\n",
              "      <td>0.0</td>\n",
              "      <td>factsguide: society now    #motivation</td>\n",
              "      <td>factsguide society now motivation</td>\n",
              "      <td>[factsguide, society, now, motivation]</td>\n",
              "      <td>[factsguide, society, motivation]</td>\n",
              "      <td>[factsguid, societi, motiv]</td>\n",
              "      <td>[factsguide, society, motivation]</td>\n",
              "    </tr>\n",
              "  </tbody>\n",
              "</table>\n",
              "</div>"
            ],
            "text/plain": [
              "   id  ...                                   tweet_lemmatized\n",
              "0   1  ...  [father, dysfunctional, selfish, drag, kid, dy...\n",
              "1   2  ...  [thanks, lyft, credit, use, cause, offer, whee...\n",
              "2   3  ...                                  [bihday, majesty]\n",
              "3   4  ...    [model, love, yoyou, take, yoyou, time, yoyour]\n",
              "4   5  ...                  [factsguide, society, motivation]\n",
              "\n",
              "[5 rows x 8 columns]"
            ]
          },
          "metadata": {
            "tags": []
          },
          "execution_count": 6
        }
      ]
    },
    {
      "cell_type": "markdown",
      "metadata": {
        "id": "yPqNdVAnupGh",
        "colab_type": "text"
      },
      "source": [
        "### Задача 1"
      ]
    },
    {
      "cell_type": "code",
      "metadata": {
        "id": "OhbgQJnium_i",
        "colab_type": "code",
        "colab": {}
      },
      "source": [
        "nlp = spacy.load('en_core_web_sm')"
      ],
      "execution_count": 23,
      "outputs": []
    },
    {
      "cell_type": "code",
      "metadata": {
        "id": "2IWFnHqZwp4P",
        "colab_type": "code",
        "colab": {}
      },
      "source": [
        "cnt = Counter()\n",
        "\n",
        "for ct in df['clean_tweet']:\n",
        "  doc = nlp(ct)\n",
        "  for e in doc.ents:\n",
        "    cnt[(e.text, e.label_)] += 1"
      ],
      "execution_count": 28,
      "outputs": []
    },
    {
      "cell_type": "code",
      "metadata": {
        "id": "bFusuP7mxn8n",
        "colab_type": "code",
        "colab": {
          "base_uri": "https://localhost:8080/",
          "height": 357
        },
        "outputId": "76ffc7b2-ba88-4ee3-eed5-177d25a35e1d"
      },
      "source": [
        "cnt.most_common(20)"
      ],
      "execution_count": 29,
      "outputs": [
        {
          "output_type": "execute_result",
          "data": {
            "text/plain": [
              "[(('today', 'DATE'), 1580),\n",
              " (('bihday', 'DATE'), 1068),\n",
              " (('friday', 'DATE'), 645),\n",
              " (('tomorrow', 'DATE'), 585),\n",
              " (('first', 'ORDINAL'), 533),\n",
              " (('summer', 'DATE'), 496),\n",
              " (('sunday', 'DATE'), 487),\n",
              " (('one', 'CARDINAL'), 487),\n",
              " (('tonight', 'TIME'), 458),\n",
              " (('s day', 'DATE'), 452),\n",
              " (('fathersday', 'DATE'), 341),\n",
              " (('morning', 'TIME'), 312),\n",
              " (('saturday', 'DATE'), 311),\n",
              " (('monday', 'DATE'), 235),\n",
              " (('days', 'DATE'), 223),\n",
              " (('america', 'GPE'), 215),\n",
              " (('orlando', 'GPE'), 210),\n",
              " (('london', 'GPE'), 182),\n",
              " (('two', 'CARDINAL'), 181),\n",
              " (('june', 'DATE'), 175)]"
            ]
          },
          "metadata": {
            "tags": []
          },
          "execution_count": 29
        }
      ]
    },
    {
      "cell_type": "markdown",
      "metadata": {
        "id": "WLGfy1f35Vt6",
        "colab_type": "text"
      },
      "source": [
        "Как мы видим, в топ 20 попали в основном даты и числительные. Немного географические локации"
      ]
    },
    {
      "cell_type": "code",
      "metadata": {
        "id": "CKiR4qmo5Mhy",
        "colab_type": "code",
        "colab": {
          "base_uri": "https://localhost:8080/",
          "height": 867
        },
        "outputId": "ab2f4516-4ae1-42b3-940c-b5950ac4c82d"
      },
      "source": [
        "cnt.most_common(50)"
      ],
      "execution_count": 30,
      "outputs": [
        {
          "output_type": "execute_result",
          "data": {
            "text/plain": [
              "[(('today', 'DATE'), 1580),\n",
              " (('bihday', 'DATE'), 1068),\n",
              " (('friday', 'DATE'), 645),\n",
              " (('tomorrow', 'DATE'), 585),\n",
              " (('first', 'ORDINAL'), 533),\n",
              " (('summer', 'DATE'), 496),\n",
              " (('sunday', 'DATE'), 487),\n",
              " (('one', 'CARDINAL'), 487),\n",
              " (('tonight', 'TIME'), 458),\n",
              " (('s day', 'DATE'), 452),\n",
              " (('fathersday', 'DATE'), 341),\n",
              " (('morning', 'TIME'), 312),\n",
              " (('saturday', 'DATE'), 311),\n",
              " (('monday', 'DATE'), 235),\n",
              " (('days', 'DATE'), 223),\n",
              " (('america', 'GPE'), 215),\n",
              " (('orlando', 'GPE'), 210),\n",
              " (('london', 'GPE'), 182),\n",
              " (('two', 'CARDINAL'), 181),\n",
              " (('june', 'DATE'), 175),\n",
              " (('thursday', 'DATE'), 169),\n",
              " (('the day', 'DATE'), 148),\n",
              " (('us', 'GPE'), 147),\n",
              " (('wednesday', 'DATE'), 136),\n",
              " (('yesterday', 'DATE'), 132),\n",
              " (('years', 'DATE'), 131),\n",
              " (('day', 'DATE'), 125),\n",
              " (('tbt', 'ORG'), 119),\n",
              " (('aww', 'ORG'), 118),\n",
              " (('weekend', 'DATE'), 112),\n",
              " (('this week', 'DATE'), 111),\n",
              " (('selfie', 'PERSON'), 110),\n",
              " (('tuesday', 'DATE'), 109),\n",
              " (('this morning', 'TIME'), 108),\n",
              " (('night', 'TIME'), 106),\n",
              " (('next week', 'DATE'), 106),\n",
              " (('weeks', 'DATE'), 103),\n",
              " (('last night', 'TIME'), 99),\n",
              " (('florida', 'GPE'), 97),\n",
              " (('this weekend', 'DATE'), 96),\n",
              " (('this year', 'DATE'), 94),\n",
              " (('daily', 'DATE'), 94),\n",
              " (('uk', 'GPE'), 92),\n",
              " (('july', 'DATE'), 82),\n",
              " (('japan', 'GPE'), 78),\n",
              " (('india', 'GPE'), 78),\n",
              " (('gop', 'ORG'), 76),\n",
              " (('hu', 'PERSON'), 72),\n",
              " (('miami', 'GPE'), 71),\n",
              " (('hours', 'TIME'), 70)]"
            ]
          },
          "metadata": {
            "tags": []
          },
          "execution_count": 30
        }
      ]
    },
    {
      "cell_type": "markdown",
      "metadata": {
        "id": "HWU9ixab5knj",
        "colab_type": "text"
      },
      "source": [
        "В топ-50 поинтереснее, сюда в качестве персоны попал selfie"
      ]
    },
    {
      "cell_type": "markdown",
      "metadata": {
        "id": "VN1O5IHB5rOW",
        "colab_type": "text"
      },
      "source": [
        "## Задание 2"
      ]
    },
    {
      "cell_type": "code",
      "metadata": {
        "id": "bDwEF4SP0e-h",
        "colab_type": "code",
        "colab": {}
      },
      "source": [
        ""
      ],
      "execution_count": null,
      "outputs": []
    }
  ]
}