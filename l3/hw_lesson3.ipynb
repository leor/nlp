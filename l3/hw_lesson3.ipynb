{
  "nbformat": 4,
  "nbformat_minor": 0,
  "metadata": {
    "colab": {
      "name": "hw_lesson3.ipynb",
      "provenance": [],
      "collapsed_sections": [],
      "toc_visible": true
    },
    "kernelspec": {
      "name": "python3",
      "display_name": "Python 3"
    }
  },
  "cells": [
    {
      "cell_type": "code",
      "metadata": {
        "id": "qlrtM4Frs9aQ",
        "colab_type": "code",
        "colab": {}
      },
      "source": [
        "import pandas as pd\n",
        "import numpy as np\n",
        "\n",
        "import spacy\n",
        "import nltk\n",
        "\n",
        "from collections import Counter"
      ],
      "execution_count": 1,
      "outputs": []
    },
    {
      "cell_type": "code",
      "metadata": {
        "id": "RsFSpn40tHBP",
        "colab_type": "code",
        "colab": {}
      },
      "source": [
        "# пришлось провести манипуляции из 1 урока отдельно с train и test, чтоб иметь 2 раздельных датасета\n",
        "# также я выбросил шаг с lower, т.к. nltk чувствителен к регистру\n",
        "train_df = pd.read_pickle(\"/content/train_result.pkl\")\n",
        "test_df = pd.read_pickle(\"/content/test_result.pkl\")"
      ],
      "execution_count": 3,
      "outputs": []
    },
    {
      "cell_type": "code",
      "metadata": {
        "id": "y6EE2ufkKrUz",
        "colab_type": "code",
        "colab": {
          "base_uri": "https://localhost:8080/",
          "height": 340
        },
        "outputId": "55d07925-6e43-484b-fccc-1874630afbad"
      },
      "source": [
        "train_df.head()"
      ],
      "execution_count": null,
      "outputs": [
        {
          "output_type": "execute_result",
          "data": {
            "text/html": [
              "<div>\n",
              "<style scoped>\n",
              "    .dataframe tbody tr th:only-of-type {\n",
              "        vertical-align: middle;\n",
              "    }\n",
              "\n",
              "    .dataframe tbody tr th {\n",
              "        vertical-align: top;\n",
              "    }\n",
              "\n",
              "    .dataframe thead th {\n",
              "        text-align: right;\n",
              "    }\n",
              "</style>\n",
              "<table border=\"1\" class=\"dataframe\">\n",
              "  <thead>\n",
              "    <tr style=\"text-align: right;\">\n",
              "      <th></th>\n",
              "      <th>id</th>\n",
              "      <th>label</th>\n",
              "      <th>tweet</th>\n",
              "      <th>clean_tweet</th>\n",
              "      <th>tweet_token</th>\n",
              "      <th>tweet_token_filtered</th>\n",
              "      <th>tweet_stemmed</th>\n",
              "      <th>tweet_lemmatized</th>\n",
              "    </tr>\n",
              "  </thead>\n",
              "  <tbody>\n",
              "    <tr>\n",
              "      <th>0</th>\n",
              "      <td>1</td>\n",
              "      <td>0</td>\n",
              "      <td>@user when a father is dysfunctional and is s...</td>\n",
              "      <td>when a father is dysfunctional and is so selfi...</td>\n",
              "      <td>[when, a, father, is, dysfunctional, and, is, ...</td>\n",
              "      <td>[father, dysfunctional, selfish, drags, kids, ...</td>\n",
              "      <td>[father, dysfunct, selfish, drag, kid, dysfunc...</td>\n",
              "      <td>[father, dysfunctional, selfish, drag, kid, dy...</td>\n",
              "    </tr>\n",
              "    <tr>\n",
              "      <th>1</th>\n",
              "      <td>2</td>\n",
              "      <td>0</td>\n",
              "      <td>@user @user thanks for #lyft credit i can't us...</td>\n",
              "      <td>thanks for lyft credit i cannot use cause they...</td>\n",
              "      <td>[thanks, for, lyft, credit, i, can, not, use, ...</td>\n",
              "      <td>[thanks, lyft, credit, use, cause, offer, whee...</td>\n",
              "      <td>[thank, lyft, credit, use, caus, offer, wheelc...</td>\n",
              "      <td>[thanks, lyft, credit, use, cause, offer, whee...</td>\n",
              "    </tr>\n",
              "    <tr>\n",
              "      <th>2</th>\n",
              "      <td>3</td>\n",
              "      <td>0</td>\n",
              "      <td>bihday your majesty</td>\n",
              "      <td>bihday your majesty</td>\n",
              "      <td>[bihday, your, majesty]</td>\n",
              "      <td>[bihday, majesty]</td>\n",
              "      <td>[bihday, majesti]</td>\n",
              "      <td>[bihday, majesty]</td>\n",
              "    </tr>\n",
              "    <tr>\n",
              "      <th>3</th>\n",
              "      <td>4</td>\n",
              "      <td>0</td>\n",
              "      <td>#model   i love u take with u all the time in ...</td>\n",
              "      <td>model i love yoyou take with yoyou all the tim...</td>\n",
              "      <td>[model, i, love, yoyou, take, with, yoyou, all...</td>\n",
              "      <td>[model, love, yoyou, take, yoyou, time, yoyour]</td>\n",
              "      <td>[model, love, yoyou, take, yoyou, time, yoyour]</td>\n",
              "      <td>[model, love, yoyou, take, yoyou, time, yoyour]</td>\n",
              "    </tr>\n",
              "    <tr>\n",
              "      <th>4</th>\n",
              "      <td>5</td>\n",
              "      <td>0</td>\n",
              "      <td>factsguide: society now    #motivation</td>\n",
              "      <td>factsguide society now motivation</td>\n",
              "      <td>[factsguide, society, now, motivation]</td>\n",
              "      <td>[factsguide, society, motivation]</td>\n",
              "      <td>[factsguid, societi, motiv]</td>\n",
              "      <td>[factsguide, society, motivation]</td>\n",
              "    </tr>\n",
              "  </tbody>\n",
              "</table>\n",
              "</div>"
            ],
            "text/plain": [
              "   id  ...                                   tweet_lemmatized\n",
              "0   1  ...  [father, dysfunctional, selfish, drag, kid, dy...\n",
              "1   2  ...  [thanks, lyft, credit, use, cause, offer, whee...\n",
              "2   3  ...                                  [bihday, majesty]\n",
              "3   4  ...    [model, love, yoyou, take, yoyou, time, yoyour]\n",
              "4   5  ...                  [factsguide, society, motivation]\n",
              "\n",
              "[5 rows x 8 columns]"
            ]
          },
          "metadata": {
            "tags": []
          },
          "execution_count": 4
        }
      ]
    },
    {
      "cell_type": "code",
      "metadata": {
        "id": "csnZ2YgUKrPM",
        "colab_type": "code",
        "colab": {
          "base_uri": "https://localhost:8080/",
          "height": 374
        },
        "outputId": "fb0c73e7-fadf-4e9d-8415-767e5636e7f6"
      },
      "source": [
        "test_df.head()"
      ],
      "execution_count": null,
      "outputs": [
        {
          "output_type": "execute_result",
          "data": {
            "text/html": [
              "<div>\n",
              "<style scoped>\n",
              "    .dataframe tbody tr th:only-of-type {\n",
              "        vertical-align: middle;\n",
              "    }\n",
              "\n",
              "    .dataframe tbody tr th {\n",
              "        vertical-align: top;\n",
              "    }\n",
              "\n",
              "    .dataframe thead th {\n",
              "        text-align: right;\n",
              "    }\n",
              "</style>\n",
              "<table border=\"1\" class=\"dataframe\">\n",
              "  <thead>\n",
              "    <tr style=\"text-align: right;\">\n",
              "      <th></th>\n",
              "      <th>id</th>\n",
              "      <th>tweet</th>\n",
              "      <th>clean_tweet</th>\n",
              "      <th>tweet_token</th>\n",
              "      <th>tweet_token_filtered</th>\n",
              "      <th>tweet_stemmed</th>\n",
              "      <th>tweet_lemmatized</th>\n",
              "    </tr>\n",
              "  </thead>\n",
              "  <tbody>\n",
              "    <tr>\n",
              "      <th>0</th>\n",
              "      <td>31963</td>\n",
              "      <td>#studiolife #aislife #requires #passion #dedic...</td>\n",
              "      <td>studiolife aislife requires passion dedication...</td>\n",
              "      <td>[studiolife, aislife, requires, passion, dedic...</td>\n",
              "      <td>[studiolife, aislife, requires, passion, dedic...</td>\n",
              "      <td>[studiolif, aislif, requir, passion, dedic, wi...</td>\n",
              "      <td>[studiolife, aislife, requires, passion, dedic...</td>\n",
              "    </tr>\n",
              "    <tr>\n",
              "      <th>1</th>\n",
              "      <td>31964</td>\n",
              "      <td>@user #white #supremacists want everyone to s...</td>\n",
              "      <td>white supremacists want everyone to see the ne...</td>\n",
              "      <td>[white, supremacists, want, everyone, to, see,...</td>\n",
              "      <td>[white, supremacists, want, everyone, see, new...</td>\n",
              "      <td>[white, supremacist, want, everyon, see, new, ...</td>\n",
              "      <td>[white, supremacist, want, everyone, see, new,...</td>\n",
              "    </tr>\n",
              "    <tr>\n",
              "      <th>2</th>\n",
              "      <td>31965</td>\n",
              "      <td>safe ways to heal your #acne!!    #altwaystohe...</td>\n",
              "      <td>safe ways to heal your acne altwaystoheal heal...</td>\n",
              "      <td>[safe, ways, to, heal, your, acne, altwaystohe...</td>\n",
              "      <td>[safe, ways, heal, acne, altwaystoheal, health...</td>\n",
              "      <td>[safe, way, heal, acn, altwaystoh, healthi, heal]</td>\n",
              "      <td>[safe, way, heal, acne, altwaystoheal, healthy...</td>\n",
              "    </tr>\n",
              "    <tr>\n",
              "      <th>3</th>\n",
              "      <td>31966</td>\n",
              "      <td>is the hp and the cursed child book up for res...</td>\n",
              "      <td>is the hp and the cursed child book up for res...</td>\n",
              "      <td>[is, the, hp, and, the, cursed, child, book, u...</td>\n",
              "      <td>[hp, cursed, child, book, reservations, alread...</td>\n",
              "      <td>[hp, curs, child, book, reserv, alreadi, ye, h...</td>\n",
              "      <td>[hp, cursed, child, book, reservation, already...</td>\n",
              "    </tr>\n",
              "    <tr>\n",
              "      <th>4</th>\n",
              "      <td>31967</td>\n",
              "      <td>3rd #bihday to my amazing, hilarious #nephew...</td>\n",
              "      <td>rd bihday to my amazing hilarious nephew eli a...</td>\n",
              "      <td>[rd, bihday, to, my, amazing, hilarious, nephe...</td>\n",
              "      <td>[rd, bihday, amazing, hilarious, nephew, eli, ...</td>\n",
              "      <td>[rd, bihday, amaz, hilari, nephew, eli, ahmir,...</td>\n",
              "      <td>[rd, bihday, amazing, hilarious, nephew, eli, ...</td>\n",
              "    </tr>\n",
              "  </tbody>\n",
              "</table>\n",
              "</div>"
            ],
            "text/plain": [
              "      id  ...                                   tweet_lemmatized\n",
              "0  31963  ...  [studiolife, aislife, requires, passion, dedic...\n",
              "1  31964  ...  [white, supremacist, want, everyone, see, new,...\n",
              "2  31965  ...  [safe, way, heal, acne, altwaystoheal, healthy...\n",
              "3  31966  ...  [hp, cursed, child, book, reservation, already...\n",
              "4  31967  ...  [rd, bihday, amazing, hilarious, nephew, eli, ...\n",
              "\n",
              "[5 rows x 7 columns]"
            ]
          },
          "metadata": {
            "tags": []
          },
          "execution_count": 5
        }
      ]
    },
    {
      "cell_type": "markdown",
      "metadata": {
        "id": "yPqNdVAnupGh",
        "colab_type": "text"
      },
      "source": [
        "### Задача 1"
      ]
    },
    {
      "cell_type": "code",
      "metadata": {
        "id": "OhbgQJnium_i",
        "colab_type": "code",
        "colab": {}
      },
      "source": [
        "nlp = spacy.load('en_core_web_sm')"
      ],
      "execution_count": null,
      "outputs": []
    },
    {
      "cell_type": "code",
      "metadata": {
        "id": "2IWFnHqZwp4P",
        "colab_type": "code",
        "colab": {}
      },
      "source": [
        "def count_ners(data):\n",
        "  cnt = Counter()\n",
        "  ners = {}\n",
        "\n",
        "  for ct in data:\n",
        "    doc = nlp(ct)\n",
        "    for e in doc.ents:\n",
        "      cnt[e.text] += 1\n",
        "      ners[e.text] = e.label_\n",
        "\n",
        "  result = [(k, v, cnt[k]) for (k,v) in ners.items()]\n",
        "\n",
        "  return pd.DataFrame(result, columns=['Word', 'NER', 'Count'])"
      ],
      "execution_count": null,
      "outputs": []
    },
    {
      "cell_type": "code",
      "metadata": {
        "id": "bFusuP7mxn8n",
        "colab_type": "code",
        "colab": {
          "base_uri": "https://localhost:8080/",
          "height": 204
        },
        "outputId": "58b89821-bba5-401d-804a-9054d8783c20"
      },
      "source": [
        "train_ners = count_ners(train_df['clean_tweet'])\n",
        "\n",
        "train_ners.head()"
      ],
      "execution_count": null,
      "outputs": [
        {
          "output_type": "execute_result",
          "data": {
            "text/html": [
              "<div>\n",
              "<style scoped>\n",
              "    .dataframe tbody tr th:only-of-type {\n",
              "        vertical-align: middle;\n",
              "    }\n",
              "\n",
              "    .dataframe tbody tr th {\n",
              "        vertical-align: top;\n",
              "    }\n",
              "\n",
              "    .dataframe thead th {\n",
              "        text-align: right;\n",
              "    }\n",
              "</style>\n",
              "<table border=\"1\" class=\"dataframe\">\n",
              "  <thead>\n",
              "    <tr style=\"text-align: right;\">\n",
              "      <th></th>\n",
              "      <th>Word</th>\n",
              "      <th>NER</th>\n",
              "      <th>Count</th>\n",
              "    </tr>\n",
              "  </thead>\n",
              "  <tbody>\n",
              "    <tr>\n",
              "      <th>0</th>\n",
              "      <td>pdx</td>\n",
              "      <td>ORG</td>\n",
              "      <td>1</td>\n",
              "    </tr>\n",
              "    <tr>\n",
              "      <th>1</th>\n",
              "      <td>bihday</td>\n",
              "      <td>DATE</td>\n",
              "      <td>694</td>\n",
              "    </tr>\n",
              "    <tr>\n",
              "      <th>2</th>\n",
              "      <td>tomorrow</td>\n",
              "      <td>DATE</td>\n",
              "      <td>387</td>\n",
              "    </tr>\n",
              "    <tr>\n",
              "      <th>3</th>\n",
              "      <td>the next school year</td>\n",
              "      <td>DATE</td>\n",
              "      <td>1</td>\n",
              "    </tr>\n",
              "    <tr>\n",
              "      <th>4</th>\n",
              "      <td>the year</td>\n",
              "      <td>DATE</td>\n",
              "      <td>17</td>\n",
              "    </tr>\n",
              "  </tbody>\n",
              "</table>\n",
              "</div>"
            ],
            "text/plain": [
              "                   Word   NER  Count\n",
              "0                   pdx   ORG      1\n",
              "1                bihday  DATE    694\n",
              "2              tomorrow  DATE    387\n",
              "3  the next school year  DATE      1\n",
              "4              the year  DATE     17"
            ]
          },
          "metadata": {
            "tags": []
          },
          "execution_count": 13
        }
      ]
    },
    {
      "cell_type": "code",
      "metadata": {
        "id": "wkYmRC6ZUTAU",
        "colab_type": "code",
        "colab": {
          "base_uri": "https://localhost:8080/",
          "height": 669
        },
        "outputId": "101bcff7-5133-40a1-83e2-ddb833e41c8d"
      },
      "source": [
        "train_ners.sort_values('Count', ascending=False).head(20)"
      ],
      "execution_count": null,
      "outputs": [
        {
          "output_type": "execute_result",
          "data": {
            "text/html": [
              "<div>\n",
              "<style scoped>\n",
              "    .dataframe tbody tr th:only-of-type {\n",
              "        vertical-align: middle;\n",
              "    }\n",
              "\n",
              "    .dataframe tbody tr th {\n",
              "        vertical-align: top;\n",
              "    }\n",
              "\n",
              "    .dataframe thead th {\n",
              "        text-align: right;\n",
              "    }\n",
              "</style>\n",
              "<table border=\"1\" class=\"dataframe\">\n",
              "  <thead>\n",
              "    <tr style=\"text-align: right;\">\n",
              "      <th></th>\n",
              "      <th>Word</th>\n",
              "      <th>NER</th>\n",
              "      <th>Count</th>\n",
              "    </tr>\n",
              "  </thead>\n",
              "  <tbody>\n",
              "    <tr>\n",
              "      <th>29</th>\n",
              "      <td>today</td>\n",
              "      <td>DATE</td>\n",
              "      <td>1016</td>\n",
              "    </tr>\n",
              "    <tr>\n",
              "      <th>1</th>\n",
              "      <td>bihday</td>\n",
              "      <td>DATE</td>\n",
              "      <td>694</td>\n",
              "    </tr>\n",
              "    <tr>\n",
              "      <th>14</th>\n",
              "      <td>friday</td>\n",
              "      <td>DATE</td>\n",
              "      <td>439</td>\n",
              "    </tr>\n",
              "    <tr>\n",
              "      <th>2</th>\n",
              "      <td>tomorrow</td>\n",
              "      <td>DATE</td>\n",
              "      <td>387</td>\n",
              "    </tr>\n",
              "    <tr>\n",
              "      <th>42</th>\n",
              "      <td>first</td>\n",
              "      <td>ORDINAL</td>\n",
              "      <td>338</td>\n",
              "    </tr>\n",
              "    <tr>\n",
              "      <th>113</th>\n",
              "      <td>summer</td>\n",
              "      <td>DATE</td>\n",
              "      <td>332</td>\n",
              "    </tr>\n",
              "    <tr>\n",
              "      <th>20</th>\n",
              "      <td>sunday</td>\n",
              "      <td>DATE</td>\n",
              "      <td>331</td>\n",
              "    </tr>\n",
              "    <tr>\n",
              "      <th>73</th>\n",
              "      <td>one</td>\n",
              "      <td>CARDINAL</td>\n",
              "      <td>325</td>\n",
              "    </tr>\n",
              "    <tr>\n",
              "      <th>26</th>\n",
              "      <td>tonight</td>\n",
              "      <td>TIME</td>\n",
              "      <td>292</td>\n",
              "    </tr>\n",
              "    <tr>\n",
              "      <th>21</th>\n",
              "      <td>s day</td>\n",
              "      <td>DATE</td>\n",
              "      <td>291</td>\n",
              "    </tr>\n",
              "    <tr>\n",
              "      <th>32</th>\n",
              "      <td>morning</td>\n",
              "      <td>TIME</td>\n",
              "      <td>214</td>\n",
              "    </tr>\n",
              "    <tr>\n",
              "      <th>169</th>\n",
              "      <td>fathersday</td>\n",
              "      <td>DATE</td>\n",
              "      <td>214</td>\n",
              "    </tr>\n",
              "    <tr>\n",
              "      <th>109</th>\n",
              "      <td>saturday</td>\n",
              "      <td>DATE</td>\n",
              "      <td>202</td>\n",
              "    </tr>\n",
              "    <tr>\n",
              "      <th>132</th>\n",
              "      <td>america</td>\n",
              "      <td>GPE</td>\n",
              "      <td>157</td>\n",
              "    </tr>\n",
              "    <tr>\n",
              "      <th>28</th>\n",
              "      <td>monday</td>\n",
              "      <td>DATE</td>\n",
              "      <td>155</td>\n",
              "    </tr>\n",
              "    <tr>\n",
              "      <th>204</th>\n",
              "      <td>days</td>\n",
              "      <td>DATE</td>\n",
              "      <td>151</td>\n",
              "    </tr>\n",
              "    <tr>\n",
              "      <th>374</th>\n",
              "      <td>orlando</td>\n",
              "      <td>GPE</td>\n",
              "      <td>131</td>\n",
              "    </tr>\n",
              "    <tr>\n",
              "      <th>116</th>\n",
              "      <td>two</td>\n",
              "      <td>CARDINAL</td>\n",
              "      <td>117</td>\n",
              "    </tr>\n",
              "    <tr>\n",
              "      <th>283</th>\n",
              "      <td>london</td>\n",
              "      <td>GPE</td>\n",
              "      <td>117</td>\n",
              "    </tr>\n",
              "    <tr>\n",
              "      <th>286</th>\n",
              "      <td>june</td>\n",
              "      <td>DATE</td>\n",
              "      <td>115</td>\n",
              "    </tr>\n",
              "  </tbody>\n",
              "</table>\n",
              "</div>"
            ],
            "text/plain": [
              "           Word       NER  Count\n",
              "29        today      DATE   1016\n",
              "1        bihday      DATE    694\n",
              "14       friday      DATE    439\n",
              "2      tomorrow      DATE    387\n",
              "42        first   ORDINAL    338\n",
              "113      summer      DATE    332\n",
              "20       sunday      DATE    331\n",
              "73          one  CARDINAL    325\n",
              "26      tonight      TIME    292\n",
              "21        s day      DATE    291\n",
              "32      morning      TIME    214\n",
              "169  fathersday      DATE    214\n",
              "109    saturday      DATE    202\n",
              "132     america       GPE    157\n",
              "28       monday      DATE    155\n",
              "204        days      DATE    151\n",
              "374     orlando       GPE    131\n",
              "116         two  CARDINAL    117\n",
              "283      london       GPE    117\n",
              "286        june      DATE    115"
            ]
          },
          "metadata": {
            "tags": []
          },
          "execution_count": 18
        }
      ]
    },
    {
      "cell_type": "markdown",
      "metadata": {
        "id": "8xs3szF0UmJF",
        "colab_type": "text"
      },
      "source": [
        "Видим, что в train чаще всего нам попадались даты, числительные и географические объекты."
      ]
    },
    {
      "cell_type": "code",
      "metadata": {
        "id": "LVTOYUsGU4ZL",
        "colab_type": "code",
        "colab": {
          "base_uri": "https://localhost:8080/",
          "height": 669
        },
        "outputId": "5f5d08e1-bf0a-4e6d-f803-238bc361fd83"
      },
      "source": [
        "train_ners[train_ners['NER'].isin(['GPE', 'ORG', 'PERSON'])].sort_values('Count', ascending=False).head(20)"
      ],
      "execution_count": null,
      "outputs": [
        {
          "output_type": "execute_result",
          "data": {
            "text/html": [
              "<div>\n",
              "<style scoped>\n",
              "    .dataframe tbody tr th:only-of-type {\n",
              "        vertical-align: middle;\n",
              "    }\n",
              "\n",
              "    .dataframe tbody tr th {\n",
              "        vertical-align: top;\n",
              "    }\n",
              "\n",
              "    .dataframe thead th {\n",
              "        text-align: right;\n",
              "    }\n",
              "</style>\n",
              "<table border=\"1\" class=\"dataframe\">\n",
              "  <thead>\n",
              "    <tr style=\"text-align: right;\">\n",
              "      <th></th>\n",
              "      <th>Word</th>\n",
              "      <th>NER</th>\n",
              "      <th>Count</th>\n",
              "    </tr>\n",
              "  </thead>\n",
              "  <tbody>\n",
              "    <tr>\n",
              "      <th>132</th>\n",
              "      <td>america</td>\n",
              "      <td>GPE</td>\n",
              "      <td>157</td>\n",
              "    </tr>\n",
              "    <tr>\n",
              "      <th>374</th>\n",
              "      <td>orlando</td>\n",
              "      <td>GPE</td>\n",
              "      <td>131</td>\n",
              "    </tr>\n",
              "    <tr>\n",
              "      <th>283</th>\n",
              "      <td>london</td>\n",
              "      <td>GPE</td>\n",
              "      <td>117</td>\n",
              "    </tr>\n",
              "    <tr>\n",
              "      <th>444</th>\n",
              "      <td>tbt</td>\n",
              "      <td>ORG</td>\n",
              "      <td>100</td>\n",
              "    </tr>\n",
              "    <tr>\n",
              "      <th>48</th>\n",
              "      <td>selfie</td>\n",
              "      <td>GPE</td>\n",
              "      <td>89</td>\n",
              "    </tr>\n",
              "    <tr>\n",
              "      <th>591</th>\n",
              "      <td>us</td>\n",
              "      <td>GPE</td>\n",
              "      <td>87</td>\n",
              "    </tr>\n",
              "    <tr>\n",
              "      <th>111</th>\n",
              "      <td>aww</td>\n",
              "      <td>ORG</td>\n",
              "      <td>81</td>\n",
              "    </tr>\n",
              "    <tr>\n",
              "      <th>54</th>\n",
              "      <td>florida</td>\n",
              "      <td>GPE</td>\n",
              "      <td>68</td>\n",
              "    </tr>\n",
              "    <tr>\n",
              "      <th>269</th>\n",
              "      <td>uk</td>\n",
              "      <td>GPE</td>\n",
              "      <td>65</td>\n",
              "    </tr>\n",
              "    <tr>\n",
              "      <th>361</th>\n",
              "      <td>india</td>\n",
              "      <td>GPE</td>\n",
              "      <td>53</td>\n",
              "    </tr>\n",
              "    <tr>\n",
              "      <th>479</th>\n",
              "      <td>gop</td>\n",
              "      <td>ORG</td>\n",
              "      <td>52</td>\n",
              "    </tr>\n",
              "    <tr>\n",
              "      <th>177</th>\n",
              "      <td>nd</td>\n",
              "      <td>GPE</td>\n",
              "      <td>49</td>\n",
              "    </tr>\n",
              "    <tr>\n",
              "      <th>84</th>\n",
              "      <td>japan</td>\n",
              "      <td>GPE</td>\n",
              "      <td>48</td>\n",
              "    </tr>\n",
              "    <tr>\n",
              "      <th>916</th>\n",
              "      <td>miami</td>\n",
              "      <td>GPE</td>\n",
              "      <td>46</td>\n",
              "    </tr>\n",
              "    <tr>\n",
              "      <th>50</th>\n",
              "      <td>hu</td>\n",
              "      <td>PERSON</td>\n",
              "      <td>44</td>\n",
              "    </tr>\n",
              "    <tr>\n",
              "      <th>323</th>\n",
              "      <td>france</td>\n",
              "      <td>GPE</td>\n",
              "      <td>39</td>\n",
              "    </tr>\n",
              "    <tr>\n",
              "      <th>249</th>\n",
              "      <td>germany</td>\n",
              "      <td>GPE</td>\n",
              "      <td>37</td>\n",
              "    </tr>\n",
              "    <tr>\n",
              "      <th>972</th>\n",
              "      <td>spain</td>\n",
              "      <td>GPE</td>\n",
              "      <td>36</td>\n",
              "    </tr>\n",
              "    <tr>\n",
              "      <th>348</th>\n",
              "      <td>russia</td>\n",
              "      <td>GPE</td>\n",
              "      <td>35</td>\n",
              "    </tr>\n",
              "    <tr>\n",
              "      <th>88</th>\n",
              "      <td>trump</td>\n",
              "      <td>PERSON</td>\n",
              "      <td>34</td>\n",
              "    </tr>\n",
              "  </tbody>\n",
              "</table>\n",
              "</div>"
            ],
            "text/plain": [
              "        Word     NER  Count\n",
              "132  america     GPE    157\n",
              "374  orlando     GPE    131\n",
              "283   london     GPE    117\n",
              "444      tbt     ORG    100\n",
              "48    selfie     GPE     89\n",
              "591       us     GPE     87\n",
              "111      aww     ORG     81\n",
              "54   florida     GPE     68\n",
              "269       uk     GPE     65\n",
              "361    india     GPE     53\n",
              "479      gop     ORG     52\n",
              "177       nd     GPE     49\n",
              "84     japan     GPE     48\n",
              "916    miami     GPE     46\n",
              "50        hu  PERSON     44\n",
              "323   france     GPE     39\n",
              "249  germany     GPE     37\n",
              "972    spain     GPE     36\n",
              "348   russia     GPE     35\n",
              "88     trump  PERSON     34"
            ]
          },
          "metadata": {
            "tags": []
          },
          "execution_count": 28
        }
      ]
    },
    {
      "cell_type": "markdown",
      "metadata": {
        "id": "WLGfy1f35Vt6",
        "colab_type": "text"
      },
      "source": [
        "Если ограничить выборку по классу, то имеем приоритет со стороны географических объектов, но так же множество организаций.\n",
        "  \n",
        "\n",
        "С определением организаций есть определённая сложность - многие междометия попали в список организаций (aww, tbt).\n",
        "\n",
        "Персоны, в основном, определены верно."
      ]
    },
    {
      "cell_type": "markdown",
      "metadata": {
        "id": "NFPbrhqoWLQV",
        "colab_type": "text"
      },
      "source": [
        "Посмотрим на тест"
      ]
    },
    {
      "cell_type": "code",
      "metadata": {
        "id": "kVQfhIgSWhw6",
        "colab_type": "code",
        "colab": {
          "base_uri": "https://localhost:8080/",
          "height": 204
        },
        "outputId": "4dcac396-cbe4-41cf-8f06-2b4cbfeca4df"
      },
      "source": [
        "test_ners = count_ners(test_df['clean_tweet'])\n",
        "\n",
        "test_ners.head()"
      ],
      "execution_count": null,
      "outputs": [
        {
          "output_type": "execute_result",
          "data": {
            "text/html": [
              "<div>\n",
              "<style scoped>\n",
              "    .dataframe tbody tr th:only-of-type {\n",
              "        vertical-align: middle;\n",
              "    }\n",
              "\n",
              "    .dataframe tbody tr th {\n",
              "        vertical-align: top;\n",
              "    }\n",
              "\n",
              "    .dataframe thead th {\n",
              "        text-align: right;\n",
              "    }\n",
              "</style>\n",
              "<table border=\"1\" class=\"dataframe\">\n",
              "  <thead>\n",
              "    <tr style=\"text-align: right;\">\n",
              "      <th></th>\n",
              "      <th>Word</th>\n",
              "      <th>NER</th>\n",
              "      <th>Count</th>\n",
              "    </tr>\n",
              "  </thead>\n",
              "  <tbody>\n",
              "    <tr>\n",
              "      <th>0</th>\n",
              "      <td>rd bihday</td>\n",
              "      <td>ORG</td>\n",
              "      <td>1</td>\n",
              "    </tr>\n",
              "    <tr>\n",
              "      <th>1</th>\n",
              "      <td>ahmir uncle dave</td>\n",
              "      <td>PERSON</td>\n",
              "      <td>1</td>\n",
              "    </tr>\n",
              "    <tr>\n",
              "      <th>2</th>\n",
              "      <td>neuro bass lifestyle</td>\n",
              "      <td>PERSON</td>\n",
              "      <td>1</td>\n",
              "    </tr>\n",
              "    <tr>\n",
              "      <th>3</th>\n",
              "      <td>one</td>\n",
              "      <td>CARDINAL</td>\n",
              "      <td>162</td>\n",
              "    </tr>\n",
              "    <tr>\n",
              "      <th>4</th>\n",
              "      <td>half</td>\n",
              "      <td>CARDINAL</td>\n",
              "      <td>22</td>\n",
              "    </tr>\n",
              "  </tbody>\n",
              "</table>\n",
              "</div>"
            ],
            "text/plain": [
              "                   Word       NER  Count\n",
              "0             rd bihday       ORG      1\n",
              "1      ahmir uncle dave    PERSON      1\n",
              "2  neuro bass lifestyle    PERSON      1\n",
              "3                   one  CARDINAL    162\n",
              "4                  half  CARDINAL     22"
            ]
          },
          "metadata": {
            "tags": []
          },
          "execution_count": 29
        }
      ]
    },
    {
      "cell_type": "code",
      "metadata": {
        "id": "W4VPad5TWspU",
        "colab_type": "code",
        "colab": {
          "base_uri": "https://localhost:8080/",
          "height": 669
        },
        "outputId": "65f1c4ad-d204-4d21-96b3-cc5856f938e7"
      },
      "source": [
        "test_ners.sort_values('Count', ascending=False).head(20)"
      ],
      "execution_count": null,
      "outputs": [
        {
          "output_type": "execute_result",
          "data": {
            "text/html": [
              "<div>\n",
              "<style scoped>\n",
              "    .dataframe tbody tr th:only-of-type {\n",
              "        vertical-align: middle;\n",
              "    }\n",
              "\n",
              "    .dataframe tbody tr th {\n",
              "        vertical-align: top;\n",
              "    }\n",
              "\n",
              "    .dataframe thead th {\n",
              "        text-align: right;\n",
              "    }\n",
              "</style>\n",
              "<table border=\"1\" class=\"dataframe\">\n",
              "  <thead>\n",
              "    <tr style=\"text-align: right;\">\n",
              "      <th></th>\n",
              "      <th>Word</th>\n",
              "      <th>NER</th>\n",
              "      <th>Count</th>\n",
              "    </tr>\n",
              "  </thead>\n",
              "  <tbody>\n",
              "    <tr>\n",
              "      <th>6</th>\n",
              "      <td>today</td>\n",
              "      <td>DATE</td>\n",
              "      <td>564</td>\n",
              "    </tr>\n",
              "    <tr>\n",
              "      <th>26</th>\n",
              "      <td>bihday</td>\n",
              "      <td>DATE</td>\n",
              "      <td>376</td>\n",
              "    </tr>\n",
              "    <tr>\n",
              "      <th>25</th>\n",
              "      <td>friday</td>\n",
              "      <td>DATE</td>\n",
              "      <td>206</td>\n",
              "    </tr>\n",
              "    <tr>\n",
              "      <th>28</th>\n",
              "      <td>tomorrow</td>\n",
              "      <td>DATE</td>\n",
              "      <td>198</td>\n",
              "    </tr>\n",
              "    <tr>\n",
              "      <th>57</th>\n",
              "      <td>first</td>\n",
              "      <td>ORDINAL</td>\n",
              "      <td>195</td>\n",
              "    </tr>\n",
              "    <tr>\n",
              "      <th>175</th>\n",
              "      <td>s day</td>\n",
              "      <td>DATE</td>\n",
              "      <td>170</td>\n",
              "    </tr>\n",
              "    <tr>\n",
              "      <th>235</th>\n",
              "      <td>tonight</td>\n",
              "      <td>TIME</td>\n",
              "      <td>166</td>\n",
              "    </tr>\n",
              "    <tr>\n",
              "      <th>17</th>\n",
              "      <td>summer</td>\n",
              "      <td>DATE</td>\n",
              "      <td>164</td>\n",
              "    </tr>\n",
              "    <tr>\n",
              "      <th>3</th>\n",
              "      <td>one</td>\n",
              "      <td>CARDINAL</td>\n",
              "      <td>162</td>\n",
              "    </tr>\n",
              "    <tr>\n",
              "      <th>44</th>\n",
              "      <td>sunday</td>\n",
              "      <td>DATE</td>\n",
              "      <td>156</td>\n",
              "    </tr>\n",
              "    <tr>\n",
              "      <th>53</th>\n",
              "      <td>fathersday</td>\n",
              "      <td>DATE</td>\n",
              "      <td>127</td>\n",
              "    </tr>\n",
              "    <tr>\n",
              "      <th>74</th>\n",
              "      <td>saturday</td>\n",
              "      <td>DATE</td>\n",
              "      <td>109</td>\n",
              "    </tr>\n",
              "    <tr>\n",
              "      <th>35</th>\n",
              "      <td>morning</td>\n",
              "      <td>TIME</td>\n",
              "      <td>98</td>\n",
              "    </tr>\n",
              "    <tr>\n",
              "      <th>290</th>\n",
              "      <td>orlando</td>\n",
              "      <td>GPE</td>\n",
              "      <td>81</td>\n",
              "    </tr>\n",
              "    <tr>\n",
              "      <th>38</th>\n",
              "      <td>monday</td>\n",
              "      <td>DATE</td>\n",
              "      <td>80</td>\n",
              "    </tr>\n",
              "    <tr>\n",
              "      <th>459</th>\n",
              "      <td>days</td>\n",
              "      <td>DATE</td>\n",
              "      <td>72</td>\n",
              "    </tr>\n",
              "    <tr>\n",
              "      <th>148</th>\n",
              "      <td>tbt</td>\n",
              "      <td>ORG</td>\n",
              "      <td>70</td>\n",
              "    </tr>\n",
              "    <tr>\n",
              "      <th>8</th>\n",
              "      <td>london</td>\n",
              "      <td>GPE</td>\n",
              "      <td>65</td>\n",
              "    </tr>\n",
              "    <tr>\n",
              "      <th>299</th>\n",
              "      <td>two</td>\n",
              "      <td>CARDINAL</td>\n",
              "      <td>64</td>\n",
              "    </tr>\n",
              "    <tr>\n",
              "      <th>55</th>\n",
              "      <td>us</td>\n",
              "      <td>GPE</td>\n",
              "      <td>60</td>\n",
              "    </tr>\n",
              "  </tbody>\n",
              "</table>\n",
              "</div>"
            ],
            "text/plain": [
              "           Word       NER  Count\n",
              "6         today      DATE    564\n",
              "26       bihday      DATE    376\n",
              "25       friday      DATE    206\n",
              "28     tomorrow      DATE    198\n",
              "57        first   ORDINAL    195\n",
              "175       s day      DATE    170\n",
              "235     tonight      TIME    166\n",
              "17       summer      DATE    164\n",
              "3           one  CARDINAL    162\n",
              "44       sunday      DATE    156\n",
              "53   fathersday      DATE    127\n",
              "74     saturday      DATE    109\n",
              "35      morning      TIME     98\n",
              "290     orlando       GPE     81\n",
              "38       monday      DATE     80\n",
              "459        days      DATE     72\n",
              "148         tbt       ORG     70\n",
              "8        london       GPE     65\n",
              "299         two  CARDINAL     64\n",
              "55           us       GPE     60"
            ]
          },
          "metadata": {
            "tags": []
          },
          "execution_count": 30
        }
      ]
    },
    {
      "cell_type": "markdown",
      "metadata": {
        "id": "R5FAEyODXhnU",
        "colab_type": "text"
      },
      "source": [
        "В test чаще всего нам попадались даты, числительные и географические объекты."
      ]
    },
    {
      "cell_type": "code",
      "metadata": {
        "id": "Zh6eOZ4FWtH-",
        "colab_type": "code",
        "colab": {
          "base_uri": "https://localhost:8080/",
          "height": 669
        },
        "outputId": "85772007-0d5c-487c-d822-063460aa934d"
      },
      "source": [
        "test_ners[test_ners['NER'].isin(['GPE', 'ORG', 'PERSON'])].sort_values('Count', ascending=False).head(20)"
      ],
      "execution_count": null,
      "outputs": [
        {
          "output_type": "execute_result",
          "data": {
            "text/html": [
              "<div>\n",
              "<style scoped>\n",
              "    .dataframe tbody tr th:only-of-type {\n",
              "        vertical-align: middle;\n",
              "    }\n",
              "\n",
              "    .dataframe tbody tr th {\n",
              "        vertical-align: top;\n",
              "    }\n",
              "\n",
              "    .dataframe thead th {\n",
              "        text-align: right;\n",
              "    }\n",
              "</style>\n",
              "<table border=\"1\" class=\"dataframe\">\n",
              "  <thead>\n",
              "    <tr style=\"text-align: right;\">\n",
              "      <th></th>\n",
              "      <th>Word</th>\n",
              "      <th>NER</th>\n",
              "      <th>Count</th>\n",
              "    </tr>\n",
              "  </thead>\n",
              "  <tbody>\n",
              "    <tr>\n",
              "      <th>290</th>\n",
              "      <td>orlando</td>\n",
              "      <td>GPE</td>\n",
              "      <td>81</td>\n",
              "    </tr>\n",
              "    <tr>\n",
              "      <th>148</th>\n",
              "      <td>tbt</td>\n",
              "      <td>ORG</td>\n",
              "      <td>70</td>\n",
              "    </tr>\n",
              "    <tr>\n",
              "      <th>8</th>\n",
              "      <td>london</td>\n",
              "      <td>GPE</td>\n",
              "      <td>65</td>\n",
              "    </tr>\n",
              "    <tr>\n",
              "      <th>55</th>\n",
              "      <td>us</td>\n",
              "      <td>GPE</td>\n",
              "      <td>60</td>\n",
              "    </tr>\n",
              "    <tr>\n",
              "      <th>119</th>\n",
              "      <td>america</td>\n",
              "      <td>GPE</td>\n",
              "      <td>58</td>\n",
              "    </tr>\n",
              "    <tr>\n",
              "      <th>128</th>\n",
              "      <td>aww</td>\n",
              "      <td>ORG</td>\n",
              "      <td>39</td>\n",
              "    </tr>\n",
              "    <tr>\n",
              "      <th>110</th>\n",
              "      <td>trump</td>\n",
              "      <td>PERSON</td>\n",
              "      <td>36</td>\n",
              "    </tr>\n",
              "    <tr>\n",
              "      <th>315</th>\n",
              "      <td>selfie</td>\n",
              "      <td>PERSON</td>\n",
              "      <td>33</td>\n",
              "    </tr>\n",
              "    <tr>\n",
              "      <th>918</th>\n",
              "      <td>japan</td>\n",
              "      <td>GPE</td>\n",
              "      <td>30</td>\n",
              "    </tr>\n",
              "    <tr>\n",
              "      <th>663</th>\n",
              "      <td>florida</td>\n",
              "      <td>GPE</td>\n",
              "      <td>29</td>\n",
              "    </tr>\n",
              "    <tr>\n",
              "      <th>344</th>\n",
              "      <td>hu</td>\n",
              "      <td>PERSON</td>\n",
              "      <td>29</td>\n",
              "    </tr>\n",
              "    <tr>\n",
              "      <th>885</th>\n",
              "      <td>nd</td>\n",
              "      <td>ORG</td>\n",
              "      <td>28</td>\n",
              "    </tr>\n",
              "    <tr>\n",
              "      <th>607</th>\n",
              "      <td>uk</td>\n",
              "      <td>GPE</td>\n",
              "      <td>28</td>\n",
              "    </tr>\n",
              "    <tr>\n",
              "      <th>238</th>\n",
              "      <td>india</td>\n",
              "      <td>GPE</td>\n",
              "      <td>25</td>\n",
              "    </tr>\n",
              "    <tr>\n",
              "      <th>1533</th>\n",
              "      <td>miami</td>\n",
              "      <td>GPE</td>\n",
              "      <td>25</td>\n",
              "    </tr>\n",
              "    <tr>\n",
              "      <th>140</th>\n",
              "      <td>gop</td>\n",
              "      <td>ORG</td>\n",
              "      <td>24</td>\n",
              "    </tr>\n",
              "    <tr>\n",
              "      <th>536</th>\n",
              "      <td>texas</td>\n",
              "      <td>GPE</td>\n",
              "      <td>20</td>\n",
              "    </tr>\n",
              "    <tr>\n",
              "      <th>632</th>\n",
              "      <td>feminismiscancer feminismisterrorism feminismm...</td>\n",
              "      <td>PERSON</td>\n",
              "      <td>20</td>\n",
              "    </tr>\n",
              "    <tr>\n",
              "      <th>58</th>\n",
              "      <td>paris</td>\n",
              "      <td>GPE</td>\n",
              "      <td>20</td>\n",
              "    </tr>\n",
              "    <tr>\n",
              "      <th>890</th>\n",
              "      <td>nba</td>\n",
              "      <td>ORG</td>\n",
              "      <td>18</td>\n",
              "    </tr>\n",
              "  </tbody>\n",
              "</table>\n",
              "</div>"
            ],
            "text/plain": [
              "                                                   Word     NER  Count\n",
              "290                                             orlando     GPE     81\n",
              "148                                                 tbt     ORG     70\n",
              "8                                                london     GPE     65\n",
              "55                                                   us     GPE     60\n",
              "119                                             america     GPE     58\n",
              "128                                                 aww     ORG     39\n",
              "110                                               trump  PERSON     36\n",
              "315                                              selfie  PERSON     33\n",
              "918                                               japan     GPE     30\n",
              "663                                             florida     GPE     29\n",
              "344                                                  hu  PERSON     29\n",
              "885                                                  nd     ORG     28\n",
              "607                                                  uk     GPE     28\n",
              "238                                               india     GPE     25\n",
              "1533                                              miami     GPE     25\n",
              "140                                                 gop     ORG     24\n",
              "536                                               texas     GPE     20\n",
              "632   feminismiscancer feminismisterrorism feminismm...  PERSON     20\n",
              "58                                                paris     GPE     20\n",
              "890                                                 nba     ORG     18"
            ]
          },
          "metadata": {
            "tags": []
          },
          "execution_count": 31
        }
      ]
    },
    {
      "cell_type": "markdown",
      "metadata": {
        "id": "qW8Htm5QYFnm",
        "colab_type": "text"
      },
      "source": [
        "Ситуация идентична train"
      ]
    },
    {
      "cell_type": "markdown",
      "metadata": {
        "id": "VN1O5IHB5rOW",
        "colab_type": "text"
      },
      "source": [
        "## Задание 2"
      ]
    },
    {
      "cell_type": "code",
      "metadata": {
        "id": "-wesvgbT8NX1",
        "colab_type": "code",
        "colab": {
          "base_uri": "https://localhost:8080/",
          "height": 204
        },
        "outputId": "bc9c1e73-220a-48df-8117-e89bae29a08b"
      },
      "source": [
        "nltk.download('punkt')\n",
        "nltk.download('averaged_perceptron_tagger')\n",
        "nltk.download('maxent_ne_chunker')\n",
        "nltk.download('words')"
      ],
      "execution_count": 4,
      "outputs": [
        {
          "output_type": "stream",
          "text": [
            "[nltk_data] Downloading package punkt to /root/nltk_data...\n",
            "[nltk_data]   Unzipping tokenizers/punkt.zip.\n",
            "[nltk_data] Downloading package averaged_perceptron_tagger to\n",
            "[nltk_data]     /root/nltk_data...\n",
            "[nltk_data]   Unzipping taggers/averaged_perceptron_tagger.zip.\n",
            "[nltk_data] Downloading package maxent_ne_chunker to\n",
            "[nltk_data]     /root/nltk_data...\n",
            "[nltk_data]   Unzipping chunkers/maxent_ne_chunker.zip.\n",
            "[nltk_data] Downloading package words to /root/nltk_data...\n",
            "[nltk_data]   Unzipping corpora/words.zip.\n"
          ],
          "name": "stdout"
        },
        {
          "output_type": "execute_result",
          "data": {
            "text/plain": [
              "True"
            ]
          },
          "metadata": {
            "tags": []
          },
          "execution_count": 4
        }
      ]
    },
    {
      "cell_type": "code",
      "metadata": {
        "id": "b-IVVuyP908Q",
        "colab_type": "code",
        "colab": {}
      },
      "source": [
        "def count_ners_nltk(data):\n",
        "  cnt = Counter()\n",
        "  ners = {}\n",
        "\n",
        "  for ct in data:\n",
        "    for chunk in nltk.ne_chunk(nltk.pos_tag(nltk.word_tokenize(ct))):\n",
        "      if hasattr(chunk, 'label'):\n",
        "        cnt[' '.join(c[0] for c in chunk)] += 1\n",
        "        ners[' '.join(c[0] for c in chunk)] = chunk.label()\n",
        "\n",
        "  result = [(k, v, cnt[k]) for (k,v) in ners.items()]\n",
        "\n",
        "  return pd.DataFrame(result, columns=['Word', 'NER', 'Count'])"
      ],
      "execution_count": 12,
      "outputs": []
    },
    {
      "cell_type": "code",
      "metadata": {
        "id": "zl4nEA9x_hnm",
        "colab_type": "code",
        "colab": {}
      },
      "source": [
        "nltk_nres_train = count_ners_nltk(train_df['clean_tweet'])"
      ],
      "execution_count": 13,
      "outputs": []
    },
    {
      "cell_type": "code",
      "metadata": {
        "id": "Lt7J_CHA_p0-",
        "colab_type": "code",
        "colab": {
          "base_uri": "https://localhost:8080/",
          "height": 49
        },
        "outputId": "0ba41a35-eac8-4673-aec9-29d656299b6d"
      },
      "source": [
        "nltk_nres_train.head()"
      ],
      "execution_count": 14,
      "outputs": [
        {
          "output_type": "execute_result",
          "data": {
            "text/html": [
              "<div>\n",
              "<style scoped>\n",
              "    .dataframe tbody tr th:only-of-type {\n",
              "        vertical-align: middle;\n",
              "    }\n",
              "\n",
              "    .dataframe tbody tr th {\n",
              "        vertical-align: top;\n",
              "    }\n",
              "\n",
              "    .dataframe thead th {\n",
              "        text-align: right;\n",
              "    }\n",
              "</style>\n",
              "<table border=\"1\" class=\"dataframe\">\n",
              "  <thead>\n",
              "    <tr style=\"text-align: right;\">\n",
              "      <th></th>\n",
              "      <th>Word</th>\n",
              "      <th>NER</th>\n",
              "      <th>Count</th>\n",
              "    </tr>\n",
              "  </thead>\n",
              "  <tbody>\n",
              "  </tbody>\n",
              "</table>\n",
              "</div>"
            ],
            "text/plain": [
              "Empty DataFrame\n",
              "Columns: [Word, NER, Count]\n",
              "Index: []"
            ]
          },
          "metadata": {
            "tags": []
          },
          "execution_count": 14
        }
      ]
    },
    {
      "cell_type": "markdown",
      "metadata": {
        "id": "TSf28WnnAXks",
        "colab_type": "text"
      },
      "source": [
        "Почему-то пусто"
      ]
    },
    {
      "cell_type": "code",
      "metadata": {
        "id": "ym6EtaxwAQjt",
        "colab_type": "code",
        "colab": {}
      },
      "source": [
        "nltk_nres_test = count_ners_nltk(test_df['clean_tweet'])"
      ],
      "execution_count": 16,
      "outputs": []
    },
    {
      "cell_type": "code",
      "metadata": {
        "id": "hpTe0XdQAUrG",
        "colab_type": "code",
        "colab": {
          "base_uri": "https://localhost:8080/",
          "height": 49
        },
        "outputId": "e7dadf19-96d8-4dca-fff6-e26cc25ff751"
      },
      "source": [
        "nltk_nres_test.head()"
      ],
      "execution_count": 17,
      "outputs": [
        {
          "output_type": "execute_result",
          "data": {
            "text/html": [
              "<div>\n",
              "<style scoped>\n",
              "    .dataframe tbody tr th:only-of-type {\n",
              "        vertical-align: middle;\n",
              "    }\n",
              "\n",
              "    .dataframe tbody tr th {\n",
              "        vertical-align: top;\n",
              "    }\n",
              "\n",
              "    .dataframe thead th {\n",
              "        text-align: right;\n",
              "    }\n",
              "</style>\n",
              "<table border=\"1\" class=\"dataframe\">\n",
              "  <thead>\n",
              "    <tr style=\"text-align: right;\">\n",
              "      <th></th>\n",
              "      <th>Word</th>\n",
              "      <th>NER</th>\n",
              "      <th>Count</th>\n",
              "    </tr>\n",
              "  </thead>\n",
              "  <tbody>\n",
              "  </tbody>\n",
              "</table>\n",
              "</div>"
            ],
            "text/plain": [
              "Empty DataFrame\n",
              "Columns: [Word, NER, Count]\n",
              "Index: []"
            ]
          },
          "metadata": {
            "tags": []
          },
          "execution_count": 17
        }
      ]
    },
    {
      "cell_type": "markdown",
      "metadata": {
        "id": "TcEsRGl0AmCN",
        "colab_type": "text"
      },
      "source": [
        "И тут тоже. Почему?\n",
        "\n",
        "Я проверял nltk на фразах, где есть uppercase (например, имена или названия начинаются с большой буквы) - и там всё работает"
      ]
    },
    {
      "cell_type": "code",
      "metadata": {
        "id": "iURgh5HPAWcn",
        "colab_type": "code",
        "colab": {
          "base_uri": "https://localhost:8080/",
          "height": 111
        },
        "outputId": "229abdad-f870-409f-c556-a542b69e93f4"
      },
      "source": [
        "count_ners_nltk(['hello Mr Anderson how do you like New York'])"
      ],
      "execution_count": 20,
      "outputs": [
        {
          "output_type": "execute_result",
          "data": {
            "text/html": [
              "<div>\n",
              "<style scoped>\n",
              "    .dataframe tbody tr th:only-of-type {\n",
              "        vertical-align: middle;\n",
              "    }\n",
              "\n",
              "    .dataframe tbody tr th {\n",
              "        vertical-align: top;\n",
              "    }\n",
              "\n",
              "    .dataframe thead th {\n",
              "        text-align: right;\n",
              "    }\n",
              "</style>\n",
              "<table border=\"1\" class=\"dataframe\">\n",
              "  <thead>\n",
              "    <tr style=\"text-align: right;\">\n",
              "      <th></th>\n",
              "      <th>Word</th>\n",
              "      <th>NER</th>\n",
              "      <th>Count</th>\n",
              "    </tr>\n",
              "  </thead>\n",
              "  <tbody>\n",
              "    <tr>\n",
              "      <th>0</th>\n",
              "      <td>Anderson</td>\n",
              "      <td>PERSON</td>\n",
              "      <td>1</td>\n",
              "    </tr>\n",
              "    <tr>\n",
              "      <th>1</th>\n",
              "      <td>New York</td>\n",
              "      <td>GPE</td>\n",
              "      <td>1</td>\n",
              "    </tr>\n",
              "  </tbody>\n",
              "</table>\n",
              "</div>"
            ],
            "text/plain": [
              "       Word     NER  Count\n",
              "0  Anderson  PERSON      1\n",
              "1  New York     GPE      1"
            ]
          },
          "metadata": {
            "tags": []
          },
          "execution_count": 20
        }
      ]
    },
    {
      "cell_type": "markdown",
      "metadata": {
        "id": "FgJ5Lf4oBI6N",
        "colab_type": "text"
      },
      "source": [
        "Вот пример. Видимо, в твитах с такими данными проблема.\n",
        "\n",
        "На мой взгляд, Spacy работает лучше.  \n",
        "\n",
        "С другой стороны, он довольно много ошибается на странных и незнакомых ему словах"
      ]
    }
  ]
}